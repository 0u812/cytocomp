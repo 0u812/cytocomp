{
  "cells": [
    {
      "cell_type": "code",
      "source": [
        "from numpy import array\n",
        "import mtt\n",
        "wiring = mtt.Wiring.bare(['Protein 1.1', 'Protein 1.2', 'Protein 1.3',\n",
        "                        'Protein 2.1', 'Protein 2.2', 'Protein 2.3',\n",
        "                        'Protein 3.1', 'Protein 3.2', 'Protein 3.3'])"
      ],
      "outputs": [],
      "execution_count": 1,
      "metadata": {
        "collapsed": false,
        "outputHidden": false,
        "inputHidden": false
      }
    },
    {
      "cell_type": "markdown",
      "source": [
        "# Configure Connections"
      ],
      "metadata": {}
    },
    {
      "cell_type": "code",
      "source": [
        "# Protein 1\n",
        "wiring.blocks[0].Afree.connect(wiring.blocks[1].Atot)\n",
        "wiring.blocks[0].Ctot.connect( wiring.blocks[0].Cfree)\n",
        "wiring.blocks[1].Ctot.connect( wiring.blocks[2].Atot)\n",
        "wiring.blocks[1].Ctot.connect( wiring.blocks[1].Cfree)\n",
        "wiring.blocks[2].Ctot.connect( wiring.blocks[3].Btot)\n",
        "wiring.blocks[2].Ctot.connect( wiring.blocks[2].Cfree)\n",
        "# Protein 2\n",
        "wiring.blocks[3].Afree.connect(wiring.blocks[4].Atot)\n",
        "wiring.blocks[3].Ctot.connect( wiring.blocks[3].Cfree)\n",
        "wiring.blocks[4].Ctot.connect( wiring.blocks[5].Atot)\n",
        "wiring.blocks[4].Ctot.connect( wiring.blocks[4].Cfree)\n",
        "wiring.blocks[5].Ctot.connect( wiring.blocks[6].Btot)\n",
        "wiring.blocks[5].Ctot.connect( wiring.blocks[5].Cfree)\n",
        "# Protein 3\n",
        "wiring.blocks[6].Afree.connect(wiring.blocks[7].Atot)\n",
        "wiring.blocks[6].Ctot.connect( wiring.blocks[6].Cfree)\n",
        "wiring.blocks[7].Ctot.connect( wiring.blocks[8].Atot)\n",
        "wiring.blocks[7].Ctot.connect( wiring.blocks[7].Cfree)\n",
        "wiring.blocks[8].Ctot.connect( wiring.blocks[0].Btot)\n",
        "wiring.blocks[8].Ctot.connect( wiring.blocks[8].Cfree)"
      ],
      "outputs": [],
      "execution_count": 2,
      "metadata": {
        "collapsed": false,
        "outputHidden": false,
        "inputHidden": false
      }
    },
    {
      "cell_type": "markdown",
      "source": [
        "# Configure Currents"
      ],
      "metadata": {}
    },
    {
      "cell_type": "code",
      "source": [
        "for k in range(0,9,3):\n",
        "    wiring.blocks[k+0].Atot = 865. #86.5 #865.\n",
        "    wiring.blocks[k+0].Btot = 0.\n",
        "    wiring.blocks[k+0].KDfw = 4. #10. # 4.\n",
        "    wiring.blocks[k+0].kr = 1000. #100. #1000.\n",
        "    wiring.blocks[k+0].kdeg = 1.\n",
        "    wiring.blocks[k+0].Dfree = 10.\n",
        "    wiring.blocks[k+0].KDrv = 10.\n",
        "    wiring.blocks[k+0].ratC = 0.\n",
        "#     print('ratC = {}'.format(wiring.blocks[k+0].ratC))\n",
        "    wiring.blocks[k+0].n = 2\n",
        "    wiring.blocks[k+0].A_FB_EN = False\n",
        "    wiring.blocks[k+0].Afree.setObservable('Afree')\n",
        "\n",
        "    wiring.blocks[k+1].Atot = 0.865\n",
        "    wiring.blocks[k+1].Btot = 10.\n",
        "    wiring.blocks[k+1].KDfw = 10.\n",
        "    wiring.blocks[k+1].kr = 100.\n",
        "    wiring.blocks[k+1].kdeg = 1.\n",
        "    wiring.blocks[k+1].Dfree = 10.\n",
        "    wiring.blocks[k+1].KDrv = 10.\n",
        "    wiring.blocks[k+1].ratC = 0.\n",
        "    wiring.blocks[k+1].Ctot.setObservable('Ctot 2')\n",
        "\n",
        "    wiring.blocks[k+2].Btot = 10.\n",
        "    wiring.blocks[k+2].KDfw = 10.\n",
        "    wiring.blocks[k+2].kr = 20.\n",
        "    wiring.blocks[k+2].kdeg = 1.\n",
        "    wiring.blocks[k+2].Dfree = 10.\n",
        "    wiring.blocks[k+2].KDrv = 10.\n",
        "    wiring.blocks[k+2].ratC = 0.\n",
        "    wiring.blocks[k+2].Ctot.setObservable('Ctot 3')"
      ],
      "outputs": [],
      "execution_count": 3,
      "metadata": {
        "collapsed": false,
        "outputHidden": false,
        "inputHidden": false
      }
    },
    {
      "cell_type": "code",
      "source": [
        "from mtt import addSRAMRule, binrep\n",
        "# add observables manually\n",
        "m = mtt.MTT(wiring=wiring)\n",
        "program = m.compileSRAM()\n",
        "rules = program.getRoutingRulesBinaryMatrix()\n",
        "\n",
        "# Sung's original connections\n",
        "# connect ICtot_copyP3 to SRAM wire 88\n",
        "rules = addSRAMRule(rules,0,2,11,88)\n",
        "# connect ICtot_copyP3 to SRAM wire 89\n",
        "rules = addSRAMRule(rules,1,2,11,89)\n",
        "# connect ICtot_copyP3 to SRAM wire 90\n",
        "rules = addSRAMRule(rules,2,2,11,90)\n",
        "# connect IAfree_copy2 to SRAM wire 91\n",
        "rules = addSRAMRule(rules,0,1,11,91)\n",
        "# connect ICtot_copyP3 to SRAM wire 92\n",
        "rules = addSRAMRule(rules,1,1,11,92)\n",
        "# connect ICtot_copyP3 to SRAM wire 93\n",
        "rules = addSRAMRule(rules,2,1,11,93)\n",
        "\n",
        "# five extra ADC connections from group 2 block 1 - what are they for?\n",
        "rules = addSRAMRule(rules,2,1,18,94)\n",
        "rules = addSRAMRule(rules,2,1,19,95)\n",
        "rules = addSRAMRule(rules,2,1,12,96)\n",
        "rules = addSRAMRule(rules,2,1,7,97)\n",
        "rules = addSRAMRule(rules,2,1,25,98)\n",
        "\n",
        "# use ADC 0~5\n",
        "# for i in range(88,93+1):\n",
        "#     rules = addSRAMRule(rules,0,0,31,i)\n",
        "# print(binrep(rules))\n",
        "# print(rules)"
      ],
      "outputs": [],
      "execution_count": 4,
      "metadata": {
        "collapsed": false,
        "outputHidden": false,
        "inputHidden": false
      }
    },
    {
      "cell_type": "code",
      "source": [
        "# extra ADC connections?\n",
        "for i in range(76,99+1):\n",
        "    rules = addSRAMRule(rules,0,0,31,i)"
      ],
      "outputs": [],
      "execution_count": 5,
      "metadata": {
        "collapsed": false,
        "outputHidden": false,
        "inputHidden": false
      }
    },
    {
      "cell_type": "code",
      "source": [
        "# hardware simulation\n",
        "m.reset()\n",
        "r = m.simulate(0,1,100,block_output=True)\n",
        "# for k in range(3):\n",
        "#     print('block {}: Afree = {}'.format(k,model.blocks[k].Afree))\n",
        "#     print('block {}: Bfree = {}'.format(k,model.blocks[k].Bfree))\n",
        "#     print('block {}: rate_fw = {}'.format(k,model.blocks[k].rate_fw))\n",
        "#     print('block {}: rate_rv = {}'.format(k,model.blocks[k].rate_rv))\n",
        "#     print('block {}: rate = {}'.format(k,model.blocks[k].rate))\n",
        "# print(r)\n",
        "m.plot()"
      ],
      "outputs": [],
      "execution_count": 6,
      "metadata": {
        "collapsed": false,
        "outputHidden": false,
        "inputHidden": false
      }
    },
    {
      "cell_type": "code",
      "source": [
        "from scipy.io import savemat\n",
        "from os.path import expanduser\n",
        "sr = m.compileShiftReg()\n",
        "prog_vect = sr.getProgrammingVector()\n",
        "savemat(expanduser('~/devel/src/mtt/case-studies/jon-repressilator-02282019/sr_only/sr.mat'), {'prog_vect': prog_vect})"
      ],
      "outputs": [],
      "execution_count": 7,
      "metadata": {
        "collapsed": false,
        "outputHidden": false,
        "inputHidden": false
      }
    },
    {
      "cell_type": "code",
      "source": [
        "sram_matrix = program.convertToSRAMMatrix(rules)\n",
        "print(sram_matrix)\n",
        "savemat(expanduser('~/devel/src/mtt/case-studies/jon-repressilator-02282019/sram_only/sram.mat'), {'in_all': sram_matrix})"
      ],
      "outputs": [],
      "execution_count": 8,
      "metadata": {
        "collapsed": false,
        "outputHidden": false,
        "inputHidden": false
      }
    },
    {
      "cell_type": "code",
      "source": [
        "from scipy.io import loadmat\n",
        "from os.path import expanduser\n",
        "m_matlab = loadmat(expanduser('~/Downloads/repressilator_from_matlab.mat'))['in_all']\n",
        "sram_matrix - m_matlab"
      ],
      "outputs": [],
      "execution_count": 9,
      "metadata": {
        "collapsed": false,
        "outputHidden": false,
        "inputHidden": false
      }
    },
    {
      "cell_type": "code",
      "source": [
        "# render rules\n",
        "#from numpy import array\n",
        "#bin_rules = array([bin(rule)[2:].zfill(10) for rule in rules])\n",
        "#print(bin_rules.reshape((-1,1)))"
      ],
      "outputs": [],
      "execution_count": 10,
      "metadata": {
        "collapsed": false,
        "outputHidden": false,
        "inputHidden": false
      }
    },
    {
      "cell_type": "code",
      "source": [
        "model = mtt.MTT(wiring)\n",
        "model.draw(3)"
      ],
      "outputs": [],
      "execution_count": 11,
      "metadata": {
        "collapsed": false,
        "outputHidden": false,
        "inputHidden": false
      }
    },
    {
      "cell_type": "markdown",
      "source": [
        "# Generate Program"
      ],
      "metadata": {}
    },
    {
      "cell_type": "code",
      "source": [
        "sram = model.compileSRAM()\n",
        "import pprint\n",
        "pp = pprint.PrettyPrinter(indent=2, depth=1, width=10)\n",
        "pp.pprint(sram.dump())"
      ],
      "outputs": [],
      "execution_count": 12,
      "metadata": {
        "collapsed": false,
        "outputHidden": false,
        "inputHidden": false
      }
    }
  ],
  "metadata": {
    "kernelspec": {
      "name": "python3",
      "language": "python",
      "display_name": "Python 3 (built-in)"
    },
    "kernel_info": {
      "name": "python3"
    },
    "language_info": {
      "name": "python",
      "version": "3.6.3",
      "mimetype": "text/x-python",
      "codemirror_mode": {
        "name": "ipython",
        "version": 3
      },
      "pygments_lexer": "ipython3",
      "nbconvert_exporter": "python",
      "file_extension": ".py"
    }
  },
  "nbformat": 4,
  "nbformat_minor": 4
}