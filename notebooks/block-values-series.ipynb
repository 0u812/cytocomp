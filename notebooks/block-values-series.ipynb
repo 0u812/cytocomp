{
  "cells": [
    {
      "cell_type": "code",
      "source": [
        "sbfile = '/home/poltergeist/devel/src/mtt/test-cases/fig-3-5a-cascade.sb'\n",
        "# load wiring\n",
        "import mtt\n",
        "model = mtt.MTT(sbfile)\n",
        "print(model.getWiringString())\n",
        "\n",
        "# load sim\n",
        "import tellurium as te\n",
        "with open(sbfile) as f:\n",
        "    m = te.loada(sbfile)\n",
        "print(repr(m))\n",
        "\n",
        "def print_comparison():\n",
        "    print('∅ > A: {} vs {}'.format(model.blocks[0].rate, m.getReactionRates()[0]))\n",
        "    print('A > B: {} vs {}'.format(model.blocks[1].rate, m.getReactionRates()[1]))"
      ],
      "outputs": [],
      "execution_count": 1,
      "metadata": {
        "collapsed": false,
        "outputHidden": false,
        "inputHidden": false
      }
    },
    {
      "cell_type": "code",
      "source": [
        "print('Rates for A = {} vs {}'.format(model.blocks[0], m.A))\n",
        "print_comparison()\n",
        "\n",
        "# set A to 0.5\n",
        "print('\\nA = 0.5')\n",
        "model.blocks[0] = 0.5\n",
        "m.A = 0.5\n",
        "print('Rates for A = {} vs {}'.format(model.blocks[0], m.A))\n",
        "#model.simulate(0,0.01,100)\n",
        "print_comparison()"
      ],
      "outputs": [],
      "execution_count": 2,
      "metadata": {
        "collapsed": false,
        "outputHidden": false,
        "inputHidden": false
      }
    }
  ],
  "metadata": {
    "kernelspec": {
      "name": "python3",
      "language": "python",
      "display_name": "Python 3"
    },
    "kernel_info": {
      "name": "python3"
    },
    "language_info": {
      "name": "python",
      "version": "3.6.1",
      "mimetype": "text/x-python",
      "codemirror_mode": {
        "name": "ipython",
        "version": 3
      },
      "pygments_lexer": "ipython3",
      "nbconvert_exporter": "python",
      "file_extension": ".py"
    }
  },
  "nbformat": 4,
  "nbformat_minor": 4
}