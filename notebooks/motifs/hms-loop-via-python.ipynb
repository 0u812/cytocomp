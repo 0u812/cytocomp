{
  "cells": [
    {
      "cell_type": "code",
      "source": [
        "import mtt\n",
        "sbfile = '/home/poltergeist/devel/src/mtt/test-cases/hms-loop.sb'\n",
        "wiring = mtt.Wiring(sbfile)\n",
        "wiring"
      ],
      "outputs": [
        {
          "output_type": "execute_result",
          "execution_count": 1,
          "data": {
            "text/plain": [
              "Block A > B + C (for B) {Afree -> 'B + D > A'.Cfree, Afree -> 'A', Btot <- 'Unity', Ctot -> 'B + D > A'.Atot, rate_fw -> 'A > B + C (for C)'.Cprod, rate_rv -> 'A > B + C (for C)'.Cdeg}\n",
              "Block A > B + C (for C) {Ctot -> 'C > D'.Atot, Ctot -> 'A > B + C (for B)'.Dfree}\n",
              "Block C > D {Afree -> 'C', Btot <- 'Unity', Ctot -> 'B + D > A'.Atot}\n",
              "Block B + D > A {Afree -> 'B', Btot <- 'Dtot', Bfree -> 'D', Ctot -> 'A > B + C (for B)'.Atot}"
            ]
          },
          "metadata": {}
        }
      ],
      "execution_count": 1,
      "metadata": {
        "collapsed": false,
        "outputHidden": false,
        "inputHidden": false
      }
    },
    {
      "cell_type": "code",
      "source": [
        "wiring.blocks[0].Atot.setInput('A', 1.0)"
      ],
      "outputs": [],
      "execution_count": 2,
      "metadata": {
        "collapsed": false,
        "outputHidden": false,
        "inputHidden": false
      }
    },
    {
      "cell_type": "code",
      "source": [
        "model = mtt.MTT(wiring)\n",
        "print(model.getWiringString())\n",
        "model.draw(2)"
      ],
      "outputs": [],
      "execution_count": null,
      "metadata": {
        "collapsed": false,
        "outputHidden": false,
        "inputHidden": false
      }
    },
    {
      "cell_type": "code",
      "source": [
        "model.reset()\n",
        "model.simulate(0,10,100,block_output=False)\n",
        "model.plot()"
      ],
      "outputs": [],
      "execution_count": null,
      "metadata": {
        "collapsed": false,
        "outputHidden": false,
        "inputHidden": false
      }
    }
  ],
  "metadata": {
    "kernelspec": {
      "name": "python3",
      "language": "python",
      "display_name": "Python 3"
    },
    "kernel_info": {
      "name": "python3"
    },
    "language_info": {
      "name": "python",
      "version": "3.6.1",
      "mimetype": "text/x-python",
      "codemirror_mode": {
        "name": "ipython",
        "version": 3
      },
      "pygments_lexer": "ipython3",
      "nbconvert_exporter": "python",
      "file_extension": ".py"
    }
  },
  "nbformat": 4,
  "nbformat_minor": 4
}