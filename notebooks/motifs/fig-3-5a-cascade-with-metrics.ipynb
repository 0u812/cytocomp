{
  "cells": [
    {
      "cell_type": "code",
      "source": [
        "import mtt\n",
        "sbfile = '/home/poltergeist/devel/src/mtt/test-cases/fig-3-5a-cascade.sb'\n",
        "model = mtt.MTT(sbfile)\n",
        "print(model.getWiringString())"
      ],
      "outputs": [],
      "execution_count": 6,
      "metadata": {
        "collapsed": false,
        "outputHidden": false,
        "inputHidden": false
      }
    },
    {
      "cell_type": "code",
      "source": [
        "model.draw(3)"
      ],
      "outputs": [],
      "execution_count": 7,
      "metadata": {
        "collapsed": false,
        "outputHidden": false,
        "inputHidden": false
      }
    },
    {
      "cell_type": "code",
      "source": [
        "model.reset()\n",
        "s_cyto = model.simulate(0,10,100)\n",
        "model.plot()"
      ],
      "outputs": [],
      "execution_count": 8,
      "metadata": {
        "collapsed": false,
        "outputHidden": false,
        "inputHidden": false
      }
    },
    {
      "cell_type": "code",
      "source": [
        "import tellurium as te\n",
        "with open(sbfile) as f:\n",
        "    rr_model = te.loada(f.read())\n",
        "s_sbml = rr_model.simulate(0,10,100)\n",
        "rr_model.plot()"
      ],
      "outputs": [],
      "execution_count": 9,
      "metadata": {
        "collapsed": false,
        "outputHidden": false,
        "inputHidden": false
      }
    },
    {
      "cell_type": "code",
      "source": [
        "mse = ((s_cyto[:,1:]-s_sbml[:,1:])**2).mean(axis=0)\n",
        "sbml_means = s_sbml[:,1:].mean(axis=0)\n",
        "for k,label in enumerate(s_cyto.colnames[1:]):\n",
        "    print('Relative MSE for {}: {:.5f}%'.format(label, mse[k]/sbml_means[k]*100.))"
      ],
      "outputs": [],
      "execution_count": 18,
      "metadata": {
        "collapsed": false,
        "outputHidden": false,
        "inputHidden": false
      }
    }
  ],
  "metadata": {
    "kernelspec": {
      "name": "python3",
      "language": "python",
      "display_name": "Python 3"
    },
    "kernel_info": {
      "name": "python3"
    },
    "language_info": {
      "name": "python",
      "version": "3.6.1",
      "mimetype": "text/x-python",
      "codemirror_mode": {
        "name": "ipython",
        "version": 3
      },
      "pygments_lexer": "ipython3",
      "nbconvert_exporter": "python",
      "file_extension": ".py"
    }
  },
  "nbformat": 4,
  "nbformat_minor": 4
}