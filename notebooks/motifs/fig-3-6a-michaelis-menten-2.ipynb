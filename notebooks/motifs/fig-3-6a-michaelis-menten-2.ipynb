{
  "cells": [
    {
      "cell_type": "code",
      "source": [
        "import mtt\n",
        "sbfile = '/home/poltergeist/devel/src/mtt/test-cases/fig-3-6a-michaelis-menten-2.sb'\n",
        "model = mtt.MTT(sbfile)\n",
        "print(model.getWiringString())"
      ],
      "outputs": [],
      "execution_count": 1,
      "metadata": {
        "collapsed": false,
        "outputHidden": false,
        "inputHidden": false
      }
    },
    {
      "cell_type": "code",
      "source": [
        "model.draw(2)"
      ],
      "outputs": [],
      "execution_count": 2,
      "metadata": {
        "collapsed": false,
        "outputHidden": false,
        "inputHidden": false
      }
    },
    {
      "cell_type": "markdown",
      "source": [
        "# Simulated Hardware Solution"
      ],
      "metadata": {}
    },
    {
      "cell_type": "code",
      "source": [
        "model.reset()\n",
        "model.simulate(0,10,100,block_output=False)\n",
        "model.plot()"
      ],
      "outputs": [],
      "execution_count": 3,
      "metadata": {
        "collapsed": false,
        "outputHidden": false,
        "inputHidden": false
      }
    },
    {
      "cell_type": "markdown",
      "source": [
        "# SBML Simulator Solution"
      ],
      "metadata": {}
    },
    {
      "cell_type": "code",
      "source": [
        "import tellurium as te\n",
        "with open(sbfile) as f:\n",
        "    rr_model = te.loada(f.read())\n",
        "rr_model.simulate(0,10,100)\n",
        "rr_model.plot()"
      ],
      "outputs": [],
      "execution_count": 4,
      "metadata": {
        "collapsed": false,
        "outputHidden": false,
        "inputHidden": false
      }
    }
  ],
  "metadata": {
    "kernelspec": {
      "name": "python3",
      "language": "python",
      "display_name": "Python 3"
    },
    "kernel_info": {
      "name": "python3"
    },
    "language_info": {
      "name": "python",
      "version": "3.6.1",
      "mimetype": "text/x-python",
      "codemirror_mode": {
        "name": "ipython",
        "version": 3
      },
      "pygments_lexer": "ipython3",
      "nbconvert_exporter": "python",
      "file_extension": ".py"
    }
  },
  "nbformat": 4,
  "nbformat_minor": 4
}