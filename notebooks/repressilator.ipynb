{
  "cells": [
    {
      "cell_type": "markdown",
      "source": [
        "# Convert Antimony to Wiring"
      ],
      "metadata": {}
    },
    {
      "cell_type": "code",
      "source": [
        "import mtt\n",
        "sbfile = '/home/poltergeist/devel/src/mtt/test-cases/etc/repressilator.sb'\n",
        "model = mtt.MTT(sbfile)\n",
        "print(model.getWiringString())"
      ],
      "outputs": [],
      "execution_count": 8,
      "metadata": {
        "collapsed": false,
        "outputHidden": false,
        "inputHidden": false
      }
    },
    {
      "cell_type": "markdown",
      "source": [
        "# Draw the Wiring Config"
      ],
      "metadata": {}
    },
    {
      "cell_type": "code",
      "source": [
        "model.draw(3)"
      ],
      "outputs": [],
      "execution_count": 9,
      "metadata": {
        "collapsed": false,
        "outputHidden": false,
        "inputHidden": false
      }
    },
    {
      "cell_type": "markdown",
      "source": [
        "# Simulate the Hardware Config"
      ],
      "metadata": {}
    },
    {
      "cell_type": "code",
      "source": [
        "model.reset()\n",
        "model.simulate(0,10,100)\n",
        "model.plot()"
      ],
      "outputs": [],
      "execution_count": 10,
      "metadata": {
        "collapsed": false,
        "outputHidden": false,
        "inputHidden": false
      }
    },
    {
      "cell_type": "markdown",
      "source": [
        "# Compare to SBML Simulation"
      ],
      "metadata": {}
    },
    {
      "cell_type": "code",
      "source": [
        "import tellurium as te\n",
        "with open(sbfile) as f:\n",
        "    rr_model = te.loada(f.read())\n",
        "rr_model.simulate(0,10,100)\n",
        "rr_model.plot()"
      ],
      "outputs": [],
      "execution_count": 11,
      "metadata": {
        "collapsed": false,
        "outputHidden": false,
        "inputHidden": false
      }
    },
    {
      "cell_type": "markdown",
      "source": [
        "# Generate Program"
      ],
      "metadata": {}
    },
    {
      "cell_type": "code",
      "source": [
        "program = model.compile()\n",
        "import pprint\n",
        "pp = pprint.PrettyPrinter(indent=2, depth=1, width=10)\n",
        "pp.pprint(program.dump())"
      ],
      "outputs": [],
      "execution_count": 12,
      "metadata": {
        "collapsed": false,
        "outputHidden": false,
        "inputHidden": false
      }
    },
    {
      "cell_type": "markdown",
      "source": [
        "# Routing Configuration\n",
        "\nOne row per wire."
      ],
      "metadata": {}
    },
    {
      "cell_type": "code",
      "source": [
        "from numpy import array\n",
        "rules = array([bin(rule)[2:].zfill(10) for rule in program.getRoutingRulesBinaryMatrix()])\n",
        "print(rules.reshape((-1,1)))"
      ],
      "outputs": [],
      "execution_count": 13,
      "metadata": {
        "collapsed": false,
        "outputHidden": false,
        "inputHidden": false
      }
    },
    {
      "cell_type": "markdown",
      "source": [
        "# SRAM Layout\n",
        "\nRows are binary routing config rules, cols are wires."
      ],
      "metadata": {}
    },
    {
      "cell_type": "code",
      "source": [
        "from scipy.io import savemat\n",
        "from os.path import expanduser\n",
        "savemat(expanduser('~/Documents/5-cascade.mat'), {'in_all': program.getSRAMMatrix()})"
      ],
      "outputs": [],
      "execution_count": 14,
      "metadata": {
        "collapsed": false,
        "outputHidden": false,
        "inputHidden": false
      }
    }
  ],
  "metadata": {
    "kernelspec": {
      "name": "python3",
      "language": "python",
      "display_name": "Python 3 (built-in)"
    },
    "kernel_info": {
      "name": "python3"
    },
    "language_info": {
      "name": "python",
      "version": "3.6.3",
      "mimetype": "text/x-python",
      "codemirror_mode": {
        "name": "ipython",
        "version": 3
      },
      "pygments_lexer": "ipython3",
      "nbconvert_exporter": "python",
      "file_extension": ".py"
    }
  },
  "nbformat": 4,
  "nbformat_minor": 4
}