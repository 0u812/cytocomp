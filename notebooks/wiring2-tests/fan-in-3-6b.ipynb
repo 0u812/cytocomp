{
  "cells": [
    {
      "cell_type": "code",
      "source": [
        "import mtt\n",
        "sbfile = '/home/poltergeist/devel/src/mtt/test-cases/fig-3-6b-fan-in.sb'\n",
        "wiring = mtt.Wiring.fromFile2(sbfile)\n",
        "wiring"
      ],
      "outputs": [],
      "execution_count": 3,
      "metadata": {
        "collapsed": false,
        "outputHidden": false,
        "inputHidden": false
      }
    },
    {
      "cell_type": "code",
      "source": [
        "model = mtt.MTT(wiring)\n",
        "model.draw(2)"
      ],
      "outputs": [],
      "execution_count": 4,
      "metadata": {
        "collapsed": false,
        "outputHidden": false,
        "inputHidden": false
      }
    }
  ],
  "metadata": {
    "kernelspec": {
      "name": "python3",
      "language": "python",
      "display_name": "Python 3 (built-in)"
    },
    "kernel_info": {
      "name": "python3"
    },
    "language_info": {
      "name": "python",
      "version": "3.6.3",
      "mimetype": "text/x-python",
      "codemirror_mode": {
        "name": "ipython",
        "version": 3
      },
      "pygments_lexer": "ipython3",
      "nbconvert_exporter": "python",
      "file_extension": ".py"
    }
  },
  "nbformat": 4,
  "nbformat_minor": 4
}