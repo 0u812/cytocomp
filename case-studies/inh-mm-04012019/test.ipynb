{
  "cells": [
    {
      "cell_type": "markdown",
      "source": [
        "# Original"
      ],
      "metadata": {}
    },
    {
      "cell_type": "code",
      "source": [
        "import tellurium as te\n",
        "with open('inhibitor-irrev.sb') as f:\n",
        "    original = te.loada(f.read())\n",
        "original.simulate(0,10,1000)\n",
        "print(original.v)\n",
        "original.plot(xtitle='time(s)', ytitle='conc.(nA)')"
      ],
      "outputs": [],
      "execution_count": 22,
      "metadata": {
        "collapsed": false,
        "outputHidden": false,
        "inputHidden": false
      }
    },
    {
      "cell_type": "markdown",
      "source": [
        "# Mechanistic"
      ],
      "metadata": {}
    },
    {
      "cell_type": "code",
      "source": [
        "import tellurium as te\n",
        "with open('inhibitor-irrev-mechanistic.sb') as f:\n",
        "    mechanistic = te.loada(f.read())\n",
        "mechanistic.simulate(0,10,1000)\n",
        "print(mechanistic.v)\n",
        "mechanistic.plot(xtitle='time(s)', ytitle='conc.(nA)')"
      ],
      "outputs": [],
      "execution_count": 23,
      "metadata": {
        "collapsed": false,
        "outputHidden": false,
        "inputHidden": false
      }
    }
  ],
  "metadata": {
    "kernelspec": {
      "name": "python3",
      "language": "python",
      "display_name": "Python 3 (built-in)"
    },
    "kernel_info": {
      "name": "python3"
    },
    "language_info": {
      "name": "python",
      "version": "3.6.3",
      "mimetype": "text/x-python",
      "codemirror_mode": {
        "name": "ipython",
        "version": 3
      },
      "pygments_lexer": "ipython3",
      "nbconvert_exporter": "python",
      "file_extension": ".py"
    }
  },
  "nbformat": 4,
  "nbformat_minor": 4
}