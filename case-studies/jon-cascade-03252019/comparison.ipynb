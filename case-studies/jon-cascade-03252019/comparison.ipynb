{
  "cells": [
    {
      "cell_type": "markdown",
      "source": [
        "# Preamble"
      ],
      "metadata": {}
    },
    {
      "cell_type": "code",
      "source": [
        "from numpy import transpose, sum, array_equal, count_nonzero, zeros"
      ],
      "outputs": [],
      "execution_count": 74,
      "metadata": {
        "collapsed": false,
        "outputHidden": false,
        "inputHidden": false
      }
    },
    {
      "cell_type": "markdown",
      "source": [
        "# Shift Register Comparison"
      ],
      "metadata": {}
    },
    {
      "cell_type": "code",
      "source": [
        "%cd /home/poltergeist/devel/src/mtt/case-studies/jon-cascade-03252019\n",
        "from scipy.io import loadmat\n",
        "from os.path import expanduser, join\n",
        "from os import getcwd\n",
        "import pandas as pd\n",
        "import IPython\n",
        "sr_matlab = zeros((350,4))\n",
        "sr_matlab[:332,:] = loadmat('matlab-sr-15-4-10.mat')['prog_vect']\n",
        "sr_mtt = loadmat('sr.mat')['prog_vect']\n",
        "if sr_matlab.shape != sr_mtt.shape:\n",
        "    print('\\x1b[31mSHAPES ARE DIFFERENT!\\x1b[0m')\n",
        "    print('  {} vs {}'.format(sr_matlab.shape,sr_mtt.shape))"
      ],
      "outputs": [],
      "execution_count": 75,
      "metadata": {
        "collapsed": false,
        "outputHidden": false,
        "inputHidden": false
      }
    },
    {
      "cell_type": "markdown",
      "source": [
        "### Number of rows which are different"
      ],
      "metadata": {}
    },
    {
      "cell_type": "code",
      "source": [
        "n_different_rows = count_nonzero(count_nonzero(sr_mtt - sr_matlab,axis=1))\n",
        "if n_different_rows > 0:\n",
        "    print('\\x1b[31m{} different rows\\x1b[0m'.format(n_different_rows))\n",
        "else:\n",
        "    print('Shift reg matrices are identical')"
      ],
      "outputs": [],
      "execution_count": 76,
      "metadata": {
        "collapsed": false,
        "outputHidden": false,
        "inputHidden": false
      }
    },
    {
      "cell_type": "markdown",
      "source": [
        "### Detail of rows that are different"
      ],
      "metadata": {}
    },
    {
      "cell_type": "code",
      "source": [
        "# print(sr_matlab[280:287,:])\n",
        "# print(sr_mtt[280:287,:])\n",
        "for k,(row_mtt,row_matlab) in enumerate(zip(sr_mtt,sr_matlab)):\n",
        "    if not array_equal(row_mtt,row_matlab):\n",
        "        print('Row {} is different'.format(k))\n",
        "        print('  {} vs {}'.format(row_mtt,row_matlab))"
      ],
      "outputs": [],
      "execution_count": 77,
      "metadata": {
        "collapsed": false,
        "outputHidden": false,
        "inputHidden": false
      }
    },
    {
      "cell_type": "markdown",
      "source": [
        "# SRAM Comparison"
      ],
      "metadata": {}
    },
    {
      "cell_type": "code",
      "source": [
        "m_matlab = loadmat('matlab-sram-15-4-10.mat')['in_all']\n",
        "m_mtt = loadmat('sram.mat')['in_all']"
      ],
      "outputs": [],
      "execution_count": 78,
      "metadata": {
        "collapsed": false,
        "outputHidden": false,
        "inputHidden": false
      }
    },
    {
      "cell_type": "markdown",
      "source": [
        "## Number of times each rule is used\n",
        "\n",
        "The row sums (i.e. sum along each row) of these matrices should be either 100 (no wire is used for the rule) or 99 (one wire is used for the rule). A rule isn't used twice, so only one wire should be used per rule. However, each wire should be used twice (next section).\n",
        "\nThe row sums for each row should be equal (each rule was used the same number of times in both configs)."
      ],
      "metadata": {}
    },
    {
      "cell_type": "code",
      "source": [
        "rowdiff = sum(m_mtt,1) - sum(m_matlab,1)\n",
        "total_rowdiff = count_nonzero(rowdiff)\n",
        "if total_rowdiff != 0:\n",
        "    print('\\x1b[31m{}\\x1b[0m'.format('{} differences!'.format(total_rowdiff)))\n",
        "else:\n",
        "    print('Identical')"
      ],
      "outputs": [],
      "execution_count": 79,
      "metadata": {
        "collapsed": false,
        "outputHidden": false,
        "inputHidden": false
      }
    },
    {
      "cell_type": "markdown",
      "source": [
        "# Number of times each wire is used\n",
        "\nEach wire should be used either zero times (1024 sum) or twice (1022 sum)."
      ],
      "metadata": {}
    },
    {
      "cell_type": "code",
      "source": [
        "coldiff = sum(m_mtt,0) - sum(m_matlab,0)\n",
        "total_coldiff = count_nonzero(coldiff)\n",
        "if total_coldiff != 0:\n",
        "    print('\\x1b[31m{}\\x1b[0m'.format('{} differences!'.format(total_coldiff)))\n",
        "    IPython.display.display_html(pd.DataFrame(coldiff))\n",
        "else:\n",
        "    print('Identical')"
      ],
      "outputs": [],
      "execution_count": 80,
      "metadata": {
        "collapsed": false,
        "outputHidden": false,
        "inputHidden": false
      }
    },
    {
      "cell_type": "code",
      "source": [
        "from mtt import binaryToRuleCfg\n",
        "for k in range(len(rowdiff)):\n",
        "    if rowdiff[k] != 0:\n",
        "        group, block, var = binaryToRuleCfg(k)\n",
        "        if rowdiff[k] > 0:\n",
        "            print(\"Matlab has a connection for group {} block {} var {} but mtt doesn't\".format(group,block,var))\n",
        "        if rowdiff[k] < 0:\n",
        "            print(\"mtt has a connection for group {} block {} var {} but Matlab doesn't\".format(group,block,var))"
      ],
      "outputs": [],
      "execution_count": 81,
      "metadata": {
        "collapsed": false,
        "outputHidden": false,
        "inputHidden": false
      }
    },
    {
      "cell_type": "code",
      "source": [
        "# compare rule connect_SRAM(in_all,0,0,12,0), wire 0\n",
        "from mtt import SRAMRuleToBinary\n",
        "print(m_mtt[SRAMRuleToBinary(0,1,11)])\n",
        "print(m_matlab[SRAMRuleToBinary(0,1,11)])"
      ],
      "outputs": [],
      "execution_count": 82,
      "metadata": {
        "collapsed": false,
        "outputHidden": false,
        "inputHidden": false
      }
    },
    {
      "cell_type": "code",
      "source": [
        "bin(SRAMRuleToBinary(0,0,12))[2:].zfill(10)"
      ],
      "outputs": [],
      "execution_count": 83,
      "metadata": {
        "collapsed": false,
        "outputHidden": false,
        "inputHidden": false
      }
    }
  ],
  "metadata": {
    "kernelspec": {
      "name": "python3",
      "language": "python",
      "display_name": "Python 3 (built-in)"
    },
    "kernel_info": {
      "name": "python3"
    },
    "language_info": {
      "name": "python",
      "version": "3.6.3",
      "mimetype": "text/x-python",
      "codemirror_mode": {
        "name": "ipython",
        "version": 3
      },
      "pygments_lexer": "ipython3",
      "nbconvert_exporter": "python",
      "file_extension": ".py"
    }
  },
  "nbformat": 4,
  "nbformat_minor": 4
}