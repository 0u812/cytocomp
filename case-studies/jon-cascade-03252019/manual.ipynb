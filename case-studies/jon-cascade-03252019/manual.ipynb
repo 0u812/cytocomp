{
  "cells": [
    {
      "cell_type": "code",
      "source": [
        "import mtt\n",
        "from os.path import join, realpath\n",
        "from os import getcwd\n",
        "wiring = mtt.Wiring.bare(['Block 1', 'Block 2', 'Block 3'])\n",
        "wiring.blocks[0].Ctot.connect(wiring.blocks[1].Btot)\n",
        "wiring.blocks[1].Ctot.connect(wiring.blocks[2].Btot)\n",
        "wiring.blocks[2].Ctot.connect(wiring.blocks[2].Cfree)\n",
        "wiring.blocks[0].Ctot.connect(wiring.blocks[0].Cfree)\n",
        "\n",
        "wiring.blocks[2].rv_up.connect(wiring.blocks[1].Cdeg)\n",
        "wiring.blocks[1].rv_up.connect(wiring.blocks[0].Cdeg)\n",
        "\nwiring"
      ],
      "outputs": [],
      "execution_count": 1,
      "metadata": {
        "collapsed": false,
        "outputHidden": false,
        "inputHidden": false
      }
    },
    {
      "cell_type": "code",
      "source": [
        "model = mtt.MTT(wiring)\n",
        "model.draw(3)"
      ],
      "outputs": [],
      "execution_count": 2,
      "metadata": {
        "collapsed": false,
        "outputHidden": false,
        "inputHidden": false
      }
    },
    {
      "cell_type": "markdown",
      "source": [
        "# Parameter config"
      ],
      "metadata": {}
    },
    {
      "cell_type": "code",
      "source": [
        "wiring.blocks[0].Atot = 50.\n",
        "wiring.blocks[0].Btot = 10.\n",
        "wiring.blocks[0].KDfw = 50.\n",
        "wiring.blocks[0].kr = 10.\n",
        "wiring.blocks[0].kdeg = 1.\n",
        "wiring.blocks[0].Dfree = 1.\n",
        "wiring.blocks[0].KDrv = 1000.\n",
        "wiring.blocks[0].ratC = 10.\n",
        "wiring.blocks[0].n = 1\n",
        "wiring.blocks[0].A_FB_EN = False\n",
        "wiring.blocks[0].B_FB_EN = False\n",
        "\n",
        "wiring.blocks[1].Atot = 50.\n",
        "wiring.blocks[1].Btot = 0.\n",
        "wiring.blocks[1].KDfw = 50.\n",
        "wiring.blocks[1].kr = 1.\n",
        "wiring.blocks[1].kdeg = 1.\n",
        "wiring.blocks[1].Dfree = 1.\n",
        "wiring.blocks[1].KDrv = 1000.\n",
        "wiring.blocks[1].ratC = 0.\n",
        "wiring.blocks[1].n = 1\n",
        "wiring.blocks[1].A_FB_EN = False\n",
        "wiring.blocks[1].B_FB_EN = True\n",
        "\n",
        "wiring.blocks[2].Atot = 50.\n",
        "wiring.blocks[2].Btot = 0.\n",
        "wiring.blocks[2].KDfw = 50.\n",
        "wiring.blocks[2].kr = 1.\n",
        "wiring.blocks[2].kdeg = 1.\n",
        "wiring.blocks[2].Dfree = 1.\n",
        "wiring.blocks[2].KDrv = 1000.\n",
        "wiring.blocks[2].ratC = 10.\n",
        "wiring.blocks[2].n = 1\n",
        "wiring.blocks[2].A_FB_EN = False\n",
        "wiring.blocks[2].B_FB_EN = True"
      ],
      "outputs": [],
      "execution_count": 3,
      "metadata": {
        "collapsed": false,
        "outputHidden": false,
        "inputHidden": false
      }
    },
    {
      "cell_type": "markdown",
      "source": [
        "# Digitized current config"
      ],
      "metadata": {}
    },
    {
      "cell_type": "code",
      "source": [
        "for block in wiring.blocks:\n",
        "    print(block.getDigitizedParameterString(model))"
      ],
      "outputs": [],
      "execution_count": 4,
      "metadata": {
        "collapsed": false,
        "outputHidden": false,
        "inputHidden": false
      }
    },
    {
      "cell_type": "markdown",
      "source": [
        "# Generate SRAM Program"
      ],
      "metadata": {}
    },
    {
      "cell_type": "code",
      "source": [
        "from mtt import addSRAMRule\n",
        "\n",
        "block_indices = [15, 4, 10]\n",
        "# block_indices = [2, 17, 8]\n",
        "# block_indices = [12, 9, 11]\n",
        "# block_indices = [5, 0, 16]\n",
        "\n",
        "program = model.compileSRAMWithBlockRemap(block_indices)\n",
        "rules = program.getRoutingRulesBinaryMatrix()\n",
        "\n",
        "# ADC connections\n",
        "# group, block, variable, wire\n",
        "# variables:\n",
        "Ctot_var  = 11\n",
        "Bfree_var = 14\n",
        "g = [int(blk/5) for blk in block_indices]\n",
        "b = [blk%5 for blk in block_indices]\n",
        "rules = addSRAMRule(rules,g[1],b[1],Bfree_var,88) # \"A\"\n",
        "rules = addSRAMRule(rules,g[2],b[2],Bfree_var,89) # \"B\"\n",
        "rules = addSRAMRule(rules,g[2],b[2],Ctot_var,90)  # \"C\"\n",
        "\n",
        "# wire to ADC\n",
        "for i in range(76,99+1):\n",
        "    rules = addSRAMRule(rules,0,0,31,i)"
      ],
      "outputs": [],
      "execution_count": 5,
      "metadata": {
        "collapsed": false,
        "outputHidden": false,
        "inputHidden": false
      }
    },
    {
      "cell_type": "code",
      "source": [
        "import pprint\n",
        "pp = pprint.PrettyPrinter(indent=2, depth=1, width=10)\n",
        "pp.pprint(program.dump())"
      ],
      "outputs": [],
      "execution_count": 6,
      "metadata": {
        "collapsed": false,
        "outputHidden": false,
        "inputHidden": false
      }
    },
    {
      "cell_type": "markdown",
      "source": [
        "# Routing Configuration\n",
        "\nOne row per wire."
      ],
      "metadata": {}
    },
    {
      "cell_type": "code",
      "source": [
        "from numpy import array\n",
        "binrules = array([bin(rule[0])[2:].zfill(10) for rule in rules])\n",
        "print(binrules.reshape((-1,1)))"
      ],
      "outputs": [],
      "execution_count": 7,
      "metadata": {
        "collapsed": false,
        "outputHidden": false,
        "inputHidden": false
      }
    },
    {
      "cell_type": "markdown",
      "source": [
        "# SRAM Layout\n",
        "\nRows are binary routing config rules, cols are wires."
      ],
      "metadata": {}
    },
    {
      "cell_type": "code",
      "source": [
        "from scipy.io import savemat\n",
        "sram_matrix = program.convertToSRAMMatrix(rules)\n",
        "savemat('sram.mat', {'in_all': sram_matrix})"
      ],
      "outputs": [],
      "execution_count": 8,
      "metadata": {
        "collapsed": false,
        "outputHidden": false,
        "inputHidden": false
      }
    },
    {
      "cell_type": "markdown",
      "source": [
        "# Shift Registers"
      ],
      "metadata": {}
    },
    {
      "cell_type": "code",
      "source": [
        "sr = model.compileShiftReg()\n",
        "prog_vect = sr.getProgrammingVectorIndexed(block_indices=block_indices)\n",
        "for k in range(4):\n",
        "    prog_vect[280:287,k] = sr.toBinaryCurrent(*model.digitize(10.)) # Ione\n",
        "for k in [0,2,3]:\n",
        "    prog_vect[280:287,k] = array([True, False, True, False, False, False, True])\n",
        "# import numpy\n",
        "# numpy.set_printoptions(threshold=numpy.nan)\n",
        "# print(prog_vect)\n",
        "savemat('sr.mat', {'prog_vect': prog_vect})"
      ],
      "outputs": [],
      "execution_count": 16,
      "metadata": {
        "collapsed": false,
        "outputHidden": false,
        "inputHidden": false
      }
    },
    {
      "cell_type": "markdown",
      "source": [
        "# Simulink Export"
      ],
      "metadata": {}
    },
    {
      "cell_type": "code",
      "source": [
        "model.exportToSimulink(join(realpath(getcwd()),'simulink'), 'cascade', 3)"
      ],
      "outputs": [],
      "execution_count": 10,
      "metadata": {
        "collapsed": false,
        "outputHidden": false,
        "inputHidden": false
      }
    },
    {
      "cell_type": "markdown",
      "source": [
        "# Simulation"
      ],
      "metadata": {}
    },
    {
      "cell_type": "code",
      "source": [
        "# hardware simulation\n",
        "model.reset()\n",
        "for k in range(3):\n",
        "    print('block {}: rate_fw = {}'.format(k,model.blocks[k].rate_fw))\n",
        "    print('block {}: rate = {}'.format(k,model.blocks[k].rate))\n",
        "r = model.simulate(0,10,100)\n",
        "# print(r)\n",
        "model.plot()"
      ],
      "outputs": [],
      "execution_count": 11,
      "metadata": {
        "collapsed": false,
        "outputHidden": false,
        "inputHidden": false
      }
    },
    {
      "cell_type": "markdown",
      "source": [
        "# SBML Simulation"
      ],
      "metadata": {}
    },
    {
      "cell_type": "code",
      "source": [
        "# SBML comparison\n",
        "import tellurium as te\n",
        "with open('/home/poltergeist/devel/src/mtt/test-cases/fig-3-5a-cascade-reversible.sb') as f:\n",
        "    rr_model = te.loada(f.read())\n",
        "print(rr_model.getReactionRates())\n",
        "rr_model.simulate(0,10,1000)\n",
        "rr_model.plot()"
      ],
      "outputs": [],
      "execution_count": 12,
      "metadata": {
        "collapsed": false,
        "outputHidden": false,
        "inputHidden": false
      }
    }
  ],
  "metadata": {
    "kernelspec": {
      "name": "python3",
      "language": "python",
      "display_name": "Python 3 (built-in)"
    },
    "kernel_info": {
      "name": "python3"
    },
    "language_info": {
      "name": "python",
      "version": "3.6.3",
      "mimetype": "text/x-python",
      "codemirror_mode": {
        "name": "ipython",
        "version": 3
      },
      "pygments_lexer": "ipython3",
      "nbconvert_exporter": "python",
      "file_extension": ".py"
    }
  },
  "nbformat": 4,
  "nbformat_minor": 4
}