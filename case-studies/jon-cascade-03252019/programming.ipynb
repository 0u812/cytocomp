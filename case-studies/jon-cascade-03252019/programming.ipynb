{
  "cells": [
    {
      "cell_type": "code",
      "source": [
        "import mtt\n",
        "from os.path import join, realpath\n",
        "from os import getcwd\n",
        "sbfile = join(realpath(getcwd()),'fig-3-5a-cascade-irreversible.sb')\n",
        "wiring = mtt.Wiring.fromFile2(sbfile)\n",
        "wiring"
      ],
      "outputs": [],
      "execution_count": 1,
      "metadata": {
        "collapsed": false,
        "outputHidden": false,
        "inputHidden": false
      }
    },
    {
      "cell_type": "code",
      "source": [
        "model = mtt.MTT(wiring)\n",
        "model.draw(3)"
      ],
      "outputs": [],
      "execution_count": 2,
      "metadata": {
        "collapsed": false,
        "outputHidden": false,
        "inputHidden": false
      }
    },
    {
      "cell_type": "markdown",
      "source": [
        "# Digitized current config"
      ],
      "metadata": {}
    },
    {
      "cell_type": "code",
      "source": [
        "for block in wiring.blocks:\n",
        "    print(block.getDigitizedParameterString(model))"
      ],
      "outputs": [],
      "execution_count": 3,
      "metadata": {
        "collapsed": false,
        "outputHidden": false,
        "inputHidden": false
      }
    },
    {
      "cell_type": "markdown",
      "source": [
        "# Generate SRAM Program"
      ],
      "metadata": {}
    },
    {
      "cell_type": "code",
      "source": [
        "from mtt import addSRAMRule\n",
        "\n",
        "block_indices = [15, 4, 10]\n",
        "# block_indices = [2, 17, 8]\n",
        "block_indices = [12, 9, 11]\n",
        "block_indices = [5, 0, 16]\n",
        "\n",
        "program = model.compileSRAM()\n",
        "rules = program.getRoutingRulesBinaryMatrix()\n",
        "\n",
        "# ADC connections\n",
        "# group, block, variable, wire\n",
        "# variables:\n",
        "Ctot_var  = 11\n",
        "Afree_var = 12\n",
        "g = [int(blk/5) for blk in block_indices]\n",
        "b = [blk%5 for blk in block_indices]\n",
        "rules = addSRAMRule(rules,g[1],b[1],Afree_var,88) # \"A\"\n",
        "rules = addSRAMRule(rules,g[2],b[2],Afree_var,89) # \"B\"\n",
        "rules = addSRAMRule(rules,g[2],b[2],Ctot_var,90)  # \"C\"\n",
        "\n",
        "# wire to ADC\n",
        "for i in range(76,99+1):\n",
        "    rules = addSRAMRule(rules,0,0,31,i)"
      ],
      "outputs": [],
      "execution_count": 4,
      "metadata": {
        "collapsed": false,
        "outputHidden": false,
        "inputHidden": false
      }
    },
    {
      "cell_type": "code",
      "source": [
        "import pprint\n",
        "pp = pprint.PrettyPrinter(indent=2, depth=1, width=10)\n",
        "pp.pprint(program.dump())"
      ],
      "outputs": [],
      "execution_count": 5,
      "metadata": {
        "collapsed": false,
        "outputHidden": false,
        "inputHidden": false
      }
    },
    {
      "cell_type": "markdown",
      "source": [
        "# Routing Configuration\n",
        "\nOne row per wire."
      ],
      "metadata": {}
    },
    {
      "cell_type": "code",
      "source": [
        "from numpy import array\n",
        "binrules = array([bin(rule[0])[2:].zfill(10) for rule in rules])\n",
        "print(binrules.reshape((-1,1)))"
      ],
      "outputs": [],
      "execution_count": 6,
      "metadata": {
        "collapsed": false,
        "outputHidden": false,
        "inputHidden": false
      }
    },
    {
      "cell_type": "markdown",
      "source": [
        "# SRAM Layout\n",
        "\nRows are binary routing config rules, cols are wires."
      ],
      "metadata": {}
    },
    {
      "cell_type": "code",
      "source": [
        "from scipy.io import savemat\n",
        "sram_matrix = program.convertToSRAMMatrix(rules)\n",
        "savemat('sram.mat', {'in_all': sram_matrix})"
      ],
      "outputs": [],
      "execution_count": 7,
      "metadata": {
        "collapsed": false,
        "outputHidden": false,
        "inputHidden": false
      }
    },
    {
      "cell_type": "markdown",
      "source": [
        "# Shift Registers"
      ],
      "metadata": {}
    },
    {
      "cell_type": "code",
      "source": [
        "sr = model.compileShiftReg()\n",
        "prog_vect = sr.getProgrammingVector()\n",
        "for k in range(4):\n",
        "    prog_vect[280:287,k] = model.digitize(10) # Ione\n",
        "# import numpy\n",
        "# numpy.set_printoptions(threshold=numpy.nan)\n",
        "# print(prog_vect)\n",
        "savemat('sr.mat', {'prog_vect': prog_vect})"
      ],
      "outputs": [],
      "execution_count": 8,
      "metadata": {
        "collapsed": false,
        "outputHidden": false,
        "inputHidden": false
      }
    },
    {
      "cell_type": "markdown",
      "source": [
        "# Simulink Export"
      ],
      "metadata": {}
    },
    {
      "cell_type": "code",
      "source": [
        "model.exportToSimulink(join(realpath(getcwd()),'simulink'), 'cascade', 3)"
      ],
      "outputs": [],
      "execution_count": 9,
      "metadata": {
        "collapsed": false,
        "outputHidden": false,
        "inputHidden": false
      }
    },
    {
      "cell_type": "markdown",
      "source": [
        "# Simulation"
      ],
      "metadata": {}
    },
    {
      "cell_type": "code",
      "source": [
        "# hardware simulation\n",
        "model.reset()\n",
        "for k in range(3):\n",
        "    print('block {}: rate_fw = {}'.format(k,model.blocks[k].rate_fw))\n",
        "    print('block {}: rate = {}'.format(k,model.blocks[k].rate))\n",
        "r = model.simulate(0,10,100)\n",
        "# print(r)\n",
        "model.plot()"
      ],
      "outputs": [],
      "execution_count": 12,
      "metadata": {
        "collapsed": false,
        "outputHidden": false,
        "inputHidden": false
      }
    },
    {
      "cell_type": "markdown",
      "source": [
        "# SBML Simulation"
      ],
      "metadata": {}
    },
    {
      "cell_type": "code",
      "source": [
        "# SBML comparison\n",
        "import tellurium as te\n",
        "with open('/home/poltergeist/devel/src/mtt/test-cases/fig-3-5a-cascade-reversible.sb') as f:\n",
        "    rr_model = te.loada(f.read())\n",
        "print(rr_model.getReactionRates())\n",
        "rr_model.simulate(0,10,1000)\n",
        "rr_model.plot()"
      ],
      "outputs": [],
      "execution_count": 1,
      "metadata": {
        "collapsed": false,
        "outputHidden": false,
        "inputHidden": false
      }
    }
  ],
  "metadata": {
    "kernelspec": {
      "name": "python3",
      "language": "python",
      "display_name": "Python 3 (built-in)"
    },
    "kernel_info": {
      "name": "python3"
    },
    "language_info": {
      "name": "python",
      "version": "3.6.3",
      "mimetype": "text/x-python",
      "codemirror_mode": {
        "name": "ipython",
        "version": 3
      },
      "pygments_lexer": "ipython3",
      "nbconvert_exporter": "python",
      "file_extension": ".py"
    }
  },
  "nbformat": 4,
  "nbformat_minor": 4
}