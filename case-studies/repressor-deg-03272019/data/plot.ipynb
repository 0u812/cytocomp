{
  "cells": [
    {
      "cell_type": "code",
      "source": [
        "from scipy.io import loadmat\n",
        "from tellurium import plot, show"
      ],
      "outputs": [],
      "execution_count": 2,
      "metadata": {
        "collapsed": false,
        "outputHidden": false,
        "inputHidden": false
      }
    },
    {
      "cell_type": "code",
      "source": [
        "rna_data = loadmat('rna.mat')\n",
        "rna1X = rna_data['rna1X']\n",
        "rna1Y = rna_data['rna1Y']\n",
        "rna2X = rna_data['rna2X']\n",
        "rna2Y = rna_data['rna2Y']\n",
        "rna3X = rna_data['rna3X']\n",
        "rna3Y = rna_data['rna3Y']"
      ],
      "outputs": [],
      "execution_count": 3,
      "metadata": {
        "collapsed": false,
        "outputHidden": false,
        "inputHidden": false
      }
    },
    {
      "cell_type": "code",
      "source": [
        "protein_data = loadmat('protein.mat')\n",
        "Protein1X = protein_data['Protein1X']\n",
        "Protein1Y = protein_data['Protein1Y']\n",
        "Protein2X = protein_data['Protein2X']\n",
        "Protein2Y = protein_data['Protein2Y']\n",
        "Protein3X = protein_data['Protein3X']\n",
        "Protein3Y = protein_data['Protein3Y']"
      ],
      "outputs": [],
      "execution_count": 4,
      "metadata": {
        "collapsed": false,
        "outputHidden": false,
        "inputHidden": false
      }
    },
    {
      "cell_type": "code",
      "source": [
        "print('rna length',rna1X.size,rna2X.size,rna3X.size)\n",
        "print('protein length',Protein1X.size,Protein2X.size,Protein3X.size)"
      ],
      "outputs": [],
      "execution_count": 8,
      "metadata": {
        "collapsed": false,
        "outputHidden": false,
        "inputHidden": false
      }
    },
    {
      "cell_type": "code",
      "source": [
        "plot(rna1X.flatten(), rna1Y.flatten(), name='X', show=False)\n",
        "plot(rna2X.flatten(), rna2Y.flatten(), name='Y', show=False)\n",
        "plot(rna3X.flatten(), rna3Y.flatten(), name='Z', show=False)\n",
        "show()"
      ],
      "outputs": [],
      "execution_count": 6,
      "metadata": {
        "collapsed": false,
        "outputHidden": false,
        "inputHidden": false
      }
    },
    {
      "cell_type": "code",
      "source": [
        "plot(Protein1X.flatten(), Protein1Y.flatten(), name='PX', show=False)\n",
        "plot(Protein2X.flatten(), Protein2Y.flatten(), name='PY', show=False)\n",
        "plot(Protein3X.flatten(), Protein3Y.flatten(), name='PZ', show=False)\n",
        "show()"
      ],
      "outputs": [],
      "execution_count": 7,
      "metadata": {
        "collapsed": false,
        "outputHidden": false,
        "inputHidden": false
      }
    }
  ],
  "metadata": {
    "kernelspec": {
      "name": "python3",
      "language": "python",
      "display_name": "Python 3 (built-in)"
    },
    "kernel_info": {
      "name": "python3"
    },
    "language_info": {
      "name": "python",
      "version": "3.6.3",
      "mimetype": "text/x-python",
      "codemirror_mode": {
        "name": "ipython",
        "version": 3
      },
      "pygments_lexer": "ipython3",
      "nbconvert_exporter": "python",
      "file_extension": ".py"
    }
  },
  "nbformat": 4,
  "nbformat_minor": 4
}