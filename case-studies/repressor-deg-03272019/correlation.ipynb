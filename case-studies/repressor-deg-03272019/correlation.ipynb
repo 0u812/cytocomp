{
  "cells": [
    {
      "cell_type": "code",
      "source": [
        "import matplotlib\n",
        "matplotlib.use('Agg')\n",
        "import matplotlib.pyplot as plt\n",
        "plt.style.use('seaborn')\n",
        "\n",
        "import mtt\n",
        "from os.path import join, realpath\n",
        "from os import getcwd\n",
        "sbfile = join(realpath(getcwd()),'three_steps.sb')\n",
        "wiring = mtt.Wiring.fromFile2(sbfile, default_margin=1000., input_val=10., current_assignment='maxKD')\n",
        "wiring"
      ],
      "outputs": [],
      "execution_count": 11,
      "metadata": {
        "collapsed": false,
        "outputHidden": false,
        "inputHidden": false
      }
    },
    {
      "cell_type": "code",
      "source": [
        "model = mtt.MTT(wiring)\n",
        "model.draw(3)"
      ],
      "outputs": [],
      "execution_count": 12,
      "metadata": {
        "collapsed": false,
        "outputHidden": false,
        "inputHidden": false
      }
    },
    {
      "cell_type": "markdown",
      "source": [
        "# Digitized current config"
      ],
      "metadata": {}
    },
    {
      "cell_type": "code",
      "source": [
        "# for block in wiring.blocks:\n",
        "#     print(block.getDigitizedParameterString(model))"
      ],
      "outputs": [],
      "execution_count": 13,
      "metadata": {
        "collapsed": false,
        "outputHidden": false,
        "inputHidden": false
      }
    },
    {
      "cell_type": "markdown",
      "source": [
        "# Simulation"
      ],
      "metadata": {}
    },
    {
      "cell_type": "code",
      "source": [
        "sbml = model.toSBML()\n",
        "# print(sbml)\n",
        "from roadrunner import RoadRunner\n",
        "with open('out-sbml.xml', 'w') as f:\n",
        "    f.write(sbml)\n",
        "xmod = RoadRunner(sbml)\n",
        "xmod.reset()\n",
        "# simulate over transient\n",
        "xmod.simulate(0,5,1000,selections=['time']+['X','Y','Z','PX','PY','PZ'])\n",
        "xmod.simulate(5,10,1000,selections=['time']+['X','Y','Z','PX','PY','PZ'])\n",
        "xmod.plot()"
      ],
      "outputs": [],
      "execution_count": 14,
      "metadata": {
        "collapsed": false,
        "outputHidden": false,
        "inputHidden": false
      }
    },
    {
      "cell_type": "code",
      "source": [
        "from scipy.io import loadmat\n",
        "from tellurium import plot, show\n",
        "from numpy import vstack, correlate, amax, argmax, zeros, linspace, sum\n",
        "from math import sqrt"
      ],
      "outputs": [],
      "execution_count": 15,
      "metadata": {
        "collapsed": false,
        "outputHidden": false,
        "inputHidden": false
      }
    },
    {
      "cell_type": "code",
      "source": [
        "rna_data = loadmat('data/rna.mat')\n",
        "rna1X = rna_data['rna1X'].flatten()\n",
        "rna1Y = rna_data['rna1Y'].flatten()\n",
        "rna2X = rna_data['rna2X'].flatten()\n",
        "rna2Y = rna_data['rna2Y'].flatten()\n",
        "rna3X = rna_data['rna3X'].flatten()\n",
        "rna3Y = rna_data['rna3Y'].flatten()\n",
        "rna_x = vstack((rna1X,rna2X,rna3X)).T\n",
        "chip_duration = float(rna_x[-1,0] - rna_x[0,0])\n",
        "rna_y = vstack((rna1Y,rna2Y,rna3Y)).T"
      ],
      "outputs": [],
      "execution_count": 16,
      "metadata": {
        "collapsed": false,
        "outputHidden": false,
        "inputHidden": false
      }
    },
    {
      "cell_type": "code",
      "source": [
        "protein_data = loadmat('data/protein.mat')\n",
        "Protein1X = protein_data['Protein1X'].flatten()\n",
        "Protein1Y = protein_data['Protein1Y'].flatten()\n",
        "Protein2X = protein_data['Protein2X'].flatten()\n",
        "Protein2Y = protein_data['Protein2Y'].flatten()\n",
        "Protein3X = protein_data['Protein3X'].flatten()\n",
        "Protein3Y = protein_data['Protein3Y'].flatten()\n",
        "protein_x = vstack((Protein1X,Protein2X,Protein3X)).T\n",
        "protein_y = vstack((Protein1Y,Protein2Y,Protein3Y)).T"
      ],
      "outputs": [],
      "execution_count": 17,
      "metadata": {
        "collapsed": false,
        "outputHidden": false,
        "inputHidden": false
      }
    },
    {
      "cell_type": "code",
      "source": [
        "plot(rna1X, rna1Y, name='X', show=False)\n",
        "plot(rna2X, rna2Y, name='Y', show=False)\n",
        "plot(rna3X, rna3Y, name='Z', show=False)\n",
        "show()"
      ],
      "outputs": [],
      "execution_count": 18,
      "metadata": {
        "collapsed": false,
        "outputHidden": false,
        "inputHidden": false
      }
    },
    {
      "cell_type": "code",
      "source": [
        "plot(Protein1X, Protein1Y, name='PX', show=False)\n",
        "plot(Protein2X, Protein2Y, name='PY', show=False)\n",
        "plot(Protein3X, Protein3Y, name='PZ', show=False)\n",
        "show()"
      ],
      "outputs": [],
      "execution_count": 19,
      "metadata": {
        "collapsed": false,
        "outputHidden": false,
        "inputHidden": false
      }
    },
    {
      "cell_type": "code",
      "source": [
        "N = 100\n",
        "\n",
        "max_rna_cor = zeros((3,N))\n",
        "max_rna_index = zeros((3,N))\n",
        "max_rna_time = zeros((3,N))\n",
        "\n",
        "max_protein_cor = zeros((3,N))\n",
        "max_protein_index = zeros((3,N))\n",
        "max_protein_time = zeros((3,N))\n",
        "\n",
        "ratio_range = linspace(2., 10., N)\n",
        "for n,t_ratio in enumerate(ratio_range):\n",
        "    sim_duration = t_ratio*chip_duration\n",
        "    xmod.reset()\n",
        "    # simulate over transient\n",
        "    xmod.simulate(0,5,1000,selections=['time']+['X','Y','Z','PX','PY','PZ'])\n",
        "    r = xmod.simulate(5.,5.+sim_duration,480,selections=['time']+['X','Y','Z','PX','PY','PZ'])\n",
        "    \n",
        "    sim_rna = r[:,1:4]\n",
        "    sim_protein = r[:,4:7]\n",
        "    \n",
        "    for k,name in enumerate(('X corr.','Y corr.','Z corr.')):\n",
        "        rna_corr = correlate(sim_rna[:,k],rna_y[:,k],mode='same') / \\\n",
        "            sqrt(sum(sim_rna[:,k]**2)*sum(rna_y[:,k]**2))\n",
        "        max_rna_cor[k,n] = amax(rna_corr)\n",
        "        max_rna_index[k,n] = argmax(rna_corr)\n",
        "        max_rna_time[k,n] = r[int(max_rna_index[k,n]),0]\n",
        "#         plot(r[:,0], rna_corr, name=name, xtitle = 'time (s)', ytitle='RNA corr. max = '+str(max_rna_time[0]), show=False)\n",
        "#     show()\n",
        "    for k,name in enumerate(('PX corr.','PY corr.','PZ corr.')):\n",
        "        protein_corr = correlate(sim_protein[:,k],protein_y[:,k],mode='same') / \\\n",
        "            sqrt(sum(sim_protein[:,k]**2)*sum(protein_y[:,k]**2))\n",
        "        max_protein_cor[k,n] = amax(protein_corr)\n",
        "        max_protein_index[k,n] = argmax(protein_corr)\n",
        "        max_protein_time[k,n] = r[int(max_protein_index[k,n]),0]\n",
        "#         plot(r[:,0], protein_corr, name=name, xtitle = 'time (s)', ytitle='Protein corr. max t = '+str(max_protein_time[0]), show=False)\n",
        "#     show()\n",
        "\n\n",
        "nrows = 1\n",
        "ncols = 1\n",
        "fig,axes = plt.subplots(nrows, ncols, sharex='col', sharey='row', figsize=(8,6))\n",
        "\n",
        "row = col = 0\n",
        "for k,name in enumerate(('X','Y','Z')):\n",
        "#     plot(ratio_range, max_rna_cor[k,:], name=name, xtitle = 'time ratio (digital/analog)', ytitle='Max RNA rel. corr.', show=False)\n",
        "    a = axes\n",
        "    a.set_title('Digital/Analog Correlation', fontsize=14)\n",
        "    a.set_xlabel('time ratio (digital/analog)', fontsize=14)\n",
        "    a.set_ylabel('Max rel. corr.', fontsize=14)\n",
        "    a.plot(ratio_range, max_rna_cor[k,:], label=name, color='C'+str(1+k), linewidth=2)\n",
        "# show()\n",
        "\n",
        "col = 0\n",
        "for k,name in enumerate(('PX','PY','PZ')):\n",
        "#     plot(ratio_range, max_protein_cor[k,:], name=name, xtitle = 'time ratio (digital/analog)', ytitle='Max Protein rel. corr.', show=False)\n",
        "    a = axes\n",
        "    a.set_title('Digital/Analog Correlation', fontsize=14)\n",
        "    a.set_xlabel('time ratio (digital/analog)', fontsize=14)\n",
        "    a.set_ylabel('Max rel. corr.', fontsize=14)\n",
        "    a.plot(ratio_range, max_protein_cor[k,:], label=name, color='C'+str(4+k), linewidth=2)\n",
        "# show()\n",
        "    handles, labels = a.get_legend_handles_labels()\n",
        "\n",
        "fig.legend(handles, labels, loc='lower right')\n",
        "\nplt.savefig('digital-analog-corr-plot.pdf', format='pdf')"
      ],
      "outputs": [],
      "execution_count": 20,
      "metadata": {
        "collapsed": false,
        "outputHidden": false,
        "inputHidden": false
      }
    }
  ],
  "metadata": {
    "kernelspec": {
      "name": "python3",
      "language": "python",
      "display_name": "Python 3 (built-in)"
    },
    "kernel_info": {
      "name": "python3"
    },
    "language_info": {
      "name": "python",
      "version": "3.6.3",
      "mimetype": "text/x-python",
      "codemirror_mode": {
        "name": "ipython",
        "version": 3
      },
      "pygments_lexer": "ipython3",
      "nbconvert_exporter": "python",
      "file_extension": ".py"
    }
  },
  "nbformat": 4,
  "nbformat_minor": 4
}