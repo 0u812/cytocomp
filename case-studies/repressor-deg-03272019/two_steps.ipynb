{
  "cells": [
    {
      "cell_type": "code",
      "source": [
        "import mtt\n",
        "from os.path import join, realpath\n",
        "from os import getcwd\n",
        "sbfile = join(realpath(getcwd()),'two_steps.sb')\n",
        "wiring = mtt.Wiring.fromFile2(sbfile, default_margin=1000., input_val=10., current_assignment='maxKD')\n",
        "wiring"
      ],
      "outputs": [],
      "execution_count": 1,
      "metadata": {
        "collapsed": false,
        "outputHidden": false,
        "inputHidden": false
      }
    },
    {
      "cell_type": "code",
      "source": [
        "model = mtt.MTT(wiring)\n",
        "model.draw(3)"
      ],
      "outputs": [],
      "execution_count": 2,
      "metadata": {
        "collapsed": false,
        "outputHidden": false,
        "inputHidden": false
      }
    },
    {
      "cell_type": "markdown",
      "source": [
        "# Digitized current config"
      ],
      "metadata": {}
    },
    {
      "cell_type": "code",
      "source": [
        "for block in wiring.blocks:\n",
        "    print(block.getDigitizedParameterString(model))"
      ],
      "outputs": [],
      "execution_count": 3,
      "metadata": {
        "collapsed": false,
        "outputHidden": false,
        "inputHidden": false
      }
    },
    {
      "cell_type": "markdown",
      "source": [
        "# Simulink Export"
      ],
      "metadata": {}
    },
    {
      "cell_type": "code",
      "source": [
        "model.exportToSimulink(join(realpath(getcwd()),'simulink'), 'repressor', 3)"
      ],
      "outputs": [],
      "execution_count": 4,
      "metadata": {
        "collapsed": false,
        "outputHidden": false,
        "inputHidden": false
      }
    },
    {
      "cell_type": "markdown",
      "source": [
        "# Simulation"
      ],
      "metadata": {}
    },
    {
      "cell_type": "code",
      "source": [
        "sbml = model.toSBML()\n",
        "# print(sbml)\n",
        "from roadrunner import RoadRunner\n",
        "with open('out-sbml.xml', 'w') as f:\n",
        "    f.write(sbml)\n",
        "xmod = RoadRunner(sbml)\n",
        "xmod.reset()\n",
        "# xmod.simulate(0,1,100,selections=['time']+xmod.getFloatingSpeciesIds()+['block0_Btot'])\n",
        "# xmod.simulate(0,1,1000,selections=['time']+['X','Y','PX','PY'])\n",
        "# xmod.simulate(0,1,1000,selections=['time']+['X','Y','PX','PY','P_1','block4_Add10'])\n",
        "xmod.simulate(0,1,1000,selections=['time']+['X','Y','PX','PY','P_1'])\n",
        "xmod.plot()"
      ],
      "outputs": [],
      "execution_count": 5,
      "metadata": {
        "collapsed": false,
        "outputHidden": false,
        "inputHidden": false
      }
    },
    {
      "cell_type": "code",
      "source": [
        "# hardware simulation\n",
        "# model.reset()\n",
        "# for k in range(2):\n",
        "#     print('block {}: Afree = {}'.format(k,model.blocks[k].Afree))\n",
        "#     print('block {}: rate_fw = {}'.format(k,model.blocks[k].rate_fw))\n",
        "# #     print('block {}: rate_rv = {}'.format(k,model.blocks[k].rate_rv))\n",
        "#     print('block {}: rate = {}'.format(k,model.blocks[k].rate))\n",
        "# r = model.simulate(0,1,100)\n",
        "# model.plot()"
      ],
      "outputs": [],
      "execution_count": 6,
      "metadata": {
        "collapsed": false,
        "outputHidden": false,
        "inputHidden": false
      }
    },
    {
      "cell_type": "markdown",
      "source": [
        "# SBML Simulation"
      ],
      "metadata": {}
    },
    {
      "cell_type": "code",
      "source": [
        "# SBML comparison\n",
        "import tellurium as te\n",
        "with open(sbfile) as f:\n",
        "    rr_model = te.loada(f.read())\n",
        "print(rr_model.getReactionIds())\n",
        "print(rr_model.getReactionRates())\n",
        "print('Km',rr_model.Km**2.)\n",
        "rr_model.simulate(0,1,1000)\n",
        "rr_model.plot()"
      ],
      "outputs": [],
      "execution_count": 7,
      "metadata": {
        "collapsed": false,
        "outputHidden": false,
        "inputHidden": false
      }
    },
    {
      "cell_type": "markdown",
      "source": [
        "# Three steps mechanistic"
      ],
      "metadata": {}
    },
    {
      "cell_type": "code",
      "source": [
        "# SBML comparison\n",
        "import tellurium as te\n",
        "with open(join(realpath(getcwd()),'two_steps_mechanistic.sb')) as f:\n",
        "    rr_model = te.loada(f.read())\n",
        "print(rr_model.getReactionIds())\n",
        "print(rr_model.getReactionRates())\n",
        "print('Km',rr_model.Km**2.)\n",
        "rr_model.simulate(0,1,1000)\n",
        "rr_model.plot()"
      ],
      "outputs": [],
      "execution_count": 9,
      "metadata": {
        "collapsed": false,
        "outputHidden": false,
        "inputHidden": false
      }
    }
  ],
  "metadata": {
    "kernelspec": {
      "name": "python3",
      "language": "python",
      "display_name": "Python 3 (built-in)"
    },
    "kernel_info": {
      "name": "python3"
    },
    "language_info": {
      "name": "python",
      "version": "3.6.3",
      "mimetype": "text/x-python",
      "codemirror_mode": {
        "name": "ipython",
        "version": 3
      },
      "pygments_lexer": "ipython3",
      "nbconvert_exporter": "python",
      "file_extension": ".py"
    }
  },
  "nbformat": 4,
  "nbformat_minor": 4
}