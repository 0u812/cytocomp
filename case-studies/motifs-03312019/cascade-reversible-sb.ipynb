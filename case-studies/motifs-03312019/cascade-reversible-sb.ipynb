{
  "cells": [
    {
      "cell_type": "code",
      "source": [
        "model cascade_reversible()\n",
        "  J0:   => A; k\n",
        "  J1: A -> B; kf*A-kr*B\n",
        "  J2: B -> C; kf2*B-kr*C\n",
        "  J3: C =>  ; kd*C\n",
        "  k = 1000\n",
        "  kf = 100\n",
        "  kf2 = 100\n",
        "  kr = 50\n",
        "  kd = 20\n",
        "end"
      ],
      "outputs": [],
      "execution_count": null,
      "metadata": {
        "collapsed": false,
        "outputHidden": false,
        "inputHidden": false,
        "tellurium": {
          "te_cell_type": "antimony"
        }
      }
    }
  ],
  "metadata": {
    "kernelspec": {
      "name": "python3",
      "language": "python",
      "display_name": "Python 3 (built-in)"
    },
    "kernel_info": {
      "name": "python3"
    },
    "language_info": {
      "name": "python",
      "version": "3.6.3",
      "mimetype": "text/x-python",
      "codemirror_mode": {
        "name": "ipython",
        "version": 3
      },
      "pygments_lexer": "ipython3",
      "nbconvert_exporter": "python",
      "file_extension": ".py"
    }
  },
  "nbformat": 4,
  "nbformat_minor": 4
}