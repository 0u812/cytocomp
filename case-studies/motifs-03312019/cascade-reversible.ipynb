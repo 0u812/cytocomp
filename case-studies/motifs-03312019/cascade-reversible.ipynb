{
  "cells": [
    {
      "cell_type": "code",
      "source": [
        "import matplotlib\n",
        "matplotlib.use('Agg')\n",
        "import matplotlib.pyplot as plt\n",
        "plt.style.use('seaborn')"
      ],
      "outputs": [],
      "execution_count": 9,
      "metadata": {
        "collapsed": false,
        "outputHidden": false,
        "inputHidden": false
      }
    },
    {
      "cell_type": "code",
      "source": [
        "import mtt\n",
        "from os.path import join, realpath, split\n",
        "from os import getcwd\n",
        "sbfile = join(realpath(getcwd()),'cascade-reversible.sb')\n",
        "wiring = mtt.Wiring.fromFile(sbfile)\n",
        "wiring"
      ],
      "outputs": [],
      "execution_count": 10,
      "metadata": {
        "collapsed": false,
        "outputHidden": false,
        "inputHidden": false
      }
    },
    {
      "cell_type": "code",
      "source": [
        "model = mtt.MTT(wiring)\n",
        "model.draw(3)"
      ],
      "outputs": [],
      "execution_count": 11,
      "metadata": {
        "collapsed": false,
        "outputHidden": false,
        "inputHidden": false
      }
    },
    {
      "cell_type": "markdown",
      "source": [
        "# Digitized current config"
      ],
      "metadata": {}
    },
    {
      "cell_type": "code",
      "source": [
        "for block in wiring.blocks:\n",
        "    print(block.getDigitizedParameterString(model))"
      ],
      "outputs": [],
      "execution_count": 12,
      "metadata": {
        "collapsed": false,
        "outputHidden": false,
        "inputHidden": false
      }
    },
    {
      "cell_type": "markdown",
      "source": [
        "# Simulink Export"
      ],
      "metadata": {}
    },
    {
      "cell_type": "code",
      "source": [
        "model.exportToSimulink(join(realpath(getcwd()),'simulink','cascade_reversible'), 'cascade_reversible', 3)"
      ],
      "outputs": [],
      "execution_count": 13,
      "metadata": {
        "collapsed": false,
        "outputHidden": false,
        "inputHidden": false
      }
    },
    {
      "cell_type": "markdown",
      "source": [
        "# Block Simulation"
      ],
      "metadata": {}
    },
    {
      "cell_type": "code",
      "source": [
        "# block simulation\n",
        "model.reset()\n",
        "for k in range(3):\n",
        "    print('block {}: rate_fw = {}'.format(k,model.blocks[k].rate_fw))\n",
        "    print('block {}: rate = {}'.format(k,model.blocks[k].rate))\n",
        "mtt_results = model.simulate(0,1,100)\n",
        "model.plot(xtitle='time(s)', ytitle='conc.(nA)')"
      ],
      "outputs": [],
      "execution_count": 14,
      "metadata": {
        "collapsed": false,
        "outputHidden": false,
        "inputHidden": false
      }
    },
    {
      "cell_type": "markdown",
      "source": [
        "# SBML Simulation"
      ],
      "metadata": {}
    },
    {
      "cell_type": "code",
      "source": [
        "# SBML comparison\n",
        "import tellurium as te\n",
        "with open(sbfile) as f:\n",
        "    rr_model = te.loada(f.read())\n",
        "rr_results = rr_model.simulate(0,1,1000)\n",
        "rr_model.plot(xtitle='time(s)', ytitle='conc.(nA)')"
      ],
      "outputs": [],
      "execution_count": 15,
      "metadata": {
        "collapsed": false,
        "outputHidden": false,
        "inputHidden": false
      }
    },
    {
      "cell_type": "code",
      "source": [
        "nrows = 2\n",
        "ncols = 1\n",
        "fig,axes = plt.subplots(nrows, ncols, sharex='col', sharey='row', figsize=(6,8))\n",
        "\n",
        "col = 0\n",
        "for row,(r,title) in enumerate(zip((mtt_results,rr_results),('Block Simulation','SBML Simulation'))):\n",
        "    a = axes[row]\n",
        "    a.set_title(title, fontsize=14)\n",
        "    if row == nrows-1:\n",
        "        a.set_xlabel('time(s)', fontsize=14)\n",
        "    a.set_ylabel('conc.(nA)', fontsize=14)\n",
        "    for k in range(1,r.shape[1]):\n",
        "        a.plot(r[:,0], r[:,k], label=r.colnames[k], color='C'+str(1+k), linewidth=2)\n",
        "    handles, labels = a.get_legend_handles_labels()\n",
        "fig.legend(handles, labels, loc='lower right')\n",
        "\n",
        "pdfname = split(sbfile)[1].split('.')[0]+'.pdf'\n",
        "plt.savefig(pdfname, format='pdf')"
      ],
      "outputs": [],
      "execution_count": 16,
      "metadata": {
        "collapsed": false,
        "outputHidden": false,
        "inputHidden": false
      }
    }
  ],
  "metadata": {
    "kernelspec": {
      "name": "python3",
      "language": "python",
      "display_name": "Python 3 (built-in)"
    },
    "kernel_info": {
      "name": "python3"
    },
    "language_info": {
      "name": "python",
      "version": "3.6.3",
      "mimetype": "text/x-python",
      "codemirror_mode": {
        "name": "ipython",
        "version": 3
      },
      "pygments_lexer": "ipython3",
      "nbconvert_exporter": "python",
      "file_extension": ".py"
    }
  },
  "nbformat": 4,
  "nbformat_minor": 4
}