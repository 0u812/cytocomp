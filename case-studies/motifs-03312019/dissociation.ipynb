{
  "cells": [
    {
      "cell_type": "code",
      "source": [
        "import matplotlib\n",
        "matplotlib.use('Agg')\n",
        "import matplotlib.pyplot as plt\n",
        "plt.style.use('seaborn')"
      ],
      "outputs": [],
      "execution_count": 17,
      "metadata": {
        "collapsed": false,
        "outputHidden": false,
        "inputHidden": false
      }
    },
    {
      "cell_type": "code",
      "source": [
        "import mtt\n",
        "from os.path import join, realpath, split\n",
        "from os import getcwd\n",
        "sbfile = join(realpath(getcwd()),'dissociation.sb')\n",
        "wiring = mtt.Wiring.fromFile(sbfile,disable_block_elision=True)\n",
        "wiring"
      ],
      "outputs": [],
      "execution_count": 18,
      "metadata": {
        "collapsed": false,
        "outputHidden": false,
        "inputHidden": false
      }
    },
    {
      "cell_type": "code",
      "source": [
        "model = mtt.MTT(wiring)\n",
        "model.draw(2)"
      ],
      "outputs": [],
      "execution_count": 19,
      "metadata": {
        "collapsed": false,
        "outputHidden": false,
        "inputHidden": false
      }
    },
    {
      "cell_type": "markdown",
      "source": [
        "# Digitized current config"
      ],
      "metadata": {}
    },
    {
      "cell_type": "code",
      "source": [
        "for block in wiring.blocks:\n",
        "    print(block.getDigitizedParameterString(model))"
      ],
      "outputs": [],
      "execution_count": 20,
      "metadata": {
        "collapsed": false,
        "outputHidden": false,
        "inputHidden": false
      }
    },
    {
      "cell_type": "markdown",
      "source": [
        "# Simulink Export"
      ],
      "metadata": {}
    },
    {
      "cell_type": "code",
      "source": [
        "model.exportToSimulink(join(realpath(getcwd()),'simulink','dissociation'), 'dissociation', 2)"
      ],
      "outputs": [],
      "execution_count": 21,
      "metadata": {
        "collapsed": false,
        "outputHidden": false,
        "inputHidden": false
      }
    },
    {
      "cell_type": "markdown",
      "source": [
        "# Block Simulation"
      ],
      "metadata": {}
    },
    {
      "cell_type": "code",
      "source": [
        "# block simulation\n",
        "model.reset()\n",
        "mtt_results = model.simulate(0,1,100)\n",
        "for k in range(2):\n",
        "    print('block {}: rate_fw = {}'.format(k,model.blocks[k].rate_fw))\n",
        "    print('block {}: rate_rv = {}'.format(k,model.blocks[k].rate_rv))\n",
        "    print('block {}: rate = {}'.format(k,model.blocks[k].rate))\n",
        "model.plot(xtitle='time(s)', ytitle='conc.(nA)')"
      ],
      "outputs": [],
      "execution_count": 22,
      "metadata": {
        "collapsed": false,
        "outputHidden": false,
        "inputHidden": false
      }
    },
    {
      "cell_type": "markdown",
      "source": [
        "# SBML Simulation"
      ],
      "metadata": {}
    },
    {
      "cell_type": "code",
      "source": [
        "# SBML comparison\n",
        "import tellurium as te\n",
        "with open(sbfile) as f:\n",
        "    rr_model = te.loada(f.read())\n",
        "rr_results = rr_model.simulate(0,1,1000)\n",
        "rr_model.plot(xtitle='time(s)', ytitle='conc.(nA)')"
      ],
      "outputs": [],
      "execution_count": 23,
      "metadata": {
        "collapsed": false,
        "outputHidden": false,
        "inputHidden": false
      }
    },
    {
      "cell_type": "code",
      "source": [
        "nrows = 2\n",
        "ncols = 1\n",
        "fig,axes = plt.subplots(nrows, ncols, sharex='col', sharey='row', figsize=(6,8))\n",
        "\n",
        "col = 0\n",
        "for row,(r,title) in enumerate(zip((mtt_results,rr_results),('Block Simulation','SBML Simulation'))):\n",
        "    a = axes[row]\n",
        "    a.set_title(title, fontsize=14)\n",
        "    if row == nrows-1:\n",
        "        a.set_xlabel('time(s)', fontsize=14)\n",
        "    a.set_ylabel('conc.(nA)', fontsize=14)\n",
        "    for k in range(1,r.shape[1]):\n",
        "        a.plot(r[:,0], r[:,k], label=r.colnames[k], color='C'+str(1+k), linewidth=2)\n",
        "    handles, labels = a.get_legend_handles_labels()\n",
        "fig.legend(handles, labels, loc='lower right')\n",
        "\n",
        "pdfname = split(sbfile)[1].split('.')[0]+'.pdf'\n",
        "plt.savefig(pdfname, format='pdf')"
      ],
      "outputs": [],
      "execution_count": 24,
      "metadata": {
        "collapsed": false,
        "outputHidden": false,
        "inputHidden": false
      }
    }
  ],
  "metadata": {
    "kernelspec": {
      "name": "python3",
      "language": "python",
      "display_name": "Python 3 (built-in)"
    },
    "kernel_info": {
      "name": "python3"
    },
    "language_info": {
      "name": "python",
      "version": "3.6.3",
      "mimetype": "text/x-python",
      "codemirror_mode": {
        "name": "ipython",
        "version": 3
      },
      "pygments_lexer": "ipython3",
      "nbconvert_exporter": "python",
      "file_extension": ".py"
    }
  },
  "nbformat": 4,
  "nbformat_minor": 4
}