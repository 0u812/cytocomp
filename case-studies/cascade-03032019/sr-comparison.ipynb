{
  "cells": [
    {
      "cell_type": "markdown",
      "source": [
        "# Preamble"
      ],
      "metadata": {}
    },
    {
      "cell_type": "code",
      "source": [
        "from numpy import transpose, sum, array_equal, count_nonzero"
      ],
      "outputs": [],
      "execution_count": 1,
      "metadata": {
        "collapsed": false,
        "outputHidden": false,
        "inputHidden": false
      }
    },
    {
      "cell_type": "markdown",
      "source": [
        "# Shift Register Comparison"
      ],
      "metadata": {}
    },
    {
      "cell_type": "code",
      "source": [
        "from scipy.io import loadmat\n",
        "import pandas as pd\n",
        "import IPython\n",
        "sr = loadmat('sr.mat')['prog_vect']\n",
        "sr_initial = loadmat('sr_initial.mat')['prog_vect']\n",
        "if sr_matlab.shape != sr_mtt.shape:\n",
        "    print('\\x1b[31mSHAPES ARE DIFFERENT!\\x1b[0m')\n",
        "    print('  {} vs {}'.format(sr_matlab.shape,sr_mtt.shape))"
      ],
      "outputs": [],
      "execution_count": 2,
      "metadata": {
        "collapsed": false,
        "outputHidden": false,
        "inputHidden": false
      }
    },
    {
      "cell_type": "markdown",
      "source": [
        "### Number of rows which are different"
      ],
      "metadata": {}
    },
    {
      "cell_type": "code",
      "source": [
        "n_different_rows = count_nonzero(count_nonzero(sr - sr_initial,axis=1))\n",
        "if n_different_rows > 0:\n",
        "    print('\\x1b[31m{} different rows\\x1b[0m'.format(n_different_rows))\n",
        "else:\n",
        "    print('Shift reg matrices are identical')"
      ],
      "outputs": [],
      "execution_count": 3,
      "metadata": {
        "collapsed": false,
        "outputHidden": false,
        "inputHidden": false
      }
    },
    {
      "cell_type": "markdown",
      "source": [
        "### Detail of rows that are different"
      ],
      "metadata": {}
    }
  ],
  "metadata": {
    "kernelspec": {
      "name": "python3",
      "language": "python",
      "display_name": "Python 3 (built-in)"
    },
    "kernel_info": {
      "name": "python3"
    },
    "language_info": {
      "name": "python",
      "version": "3.6.3",
      "mimetype": "text/x-python",
      "codemirror_mode": {
        "name": "ipython",
        "version": 3
      },
      "pygments_lexer": "ipython3",
      "nbconvert_exporter": "python",
      "file_extension": ".py"
    }
  },
  "nbformat": 4,
  "nbformat_minor": 4
}