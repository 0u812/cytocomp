{
  "cells": [
    {
      "cell_type": "code",
      "source": [
        "import mtt\n",
        "from os.path import join, realpath\n",
        "from os import getcwd\n",
        "sbfile = join(realpath(getcwd()),'fig-3-5a-cascade-reversible.sb')\n",
        "wiring = mtt.Wiring.fromFile2(sbfile)\n",
        "wiring"
      ],
      "outputs": [],
      "execution_count": 1,
      "metadata": {
        "collapsed": false,
        "outputHidden": false,
        "inputHidden": false
      }
    },
    {
      "cell_type": "code",
      "source": [
        "model = mtt.MTT(wiring)\n",
        "model.draw(3)"
      ],
      "outputs": [],
      "execution_count": 2,
      "metadata": {
        "collapsed": false,
        "outputHidden": false,
        "inputHidden": false
      }
    },
    {
      "cell_type": "markdown",
      "source": [
        "# Digitized current config"
      ],
      "metadata": {}
    },
    {
      "cell_type": "code",
      "source": [
        "for block in wiring.blocks:\n",
        "    print(block.getDigitizedParameterString(model))"
      ],
      "outputs": [],
      "execution_count": 3,
      "metadata": {
        "collapsed": false,
        "outputHidden": false,
        "inputHidden": false
      }
    },
    {
      "cell_type": "markdown",
      "source": [
        "# SBML Export"
      ],
      "metadata": {}
    },
    {
      "cell_type": "code",
      "source": [
        "sbml = model.toSBML()\n",
        "print(sbml)"
      ],
      "outputs": [],
      "execution_count": 4,
      "metadata": {
        "collapsed": false,
        "outputHidden": false,
        "inputHidden": false
      }
    },
    {
      "cell_type": "code",
      "source": [
        "from roadrunner import RoadRunner\n",
        "exported_sbml_model = RoadRunner(sbml)\n",
        "# sbml_model.getFloatingSpeciesIds()\n",
        "exported_sbml_model.reset()\n",
        "exported_sbml_model.simulate(0,10,100,selections=['time']+exported_sbml_model.getFloatingSpeciesIds())\n",
        "exported_sbml_model.plot()\n",
        "print(exported_sbml_model.block0_Afree)\n",
        "print(exported_sbml_model.block0_Bfree)\n",
        "print(exported_sbml_model.block0_KDfw)\n",
        "print(exported_sbml_model.block0_n)\n",
        "print('')\n",
        "print(exported_sbml_model.block0_rate_fw)\n",
        "print(exported_sbml_model.block0_Add10)\n",
        "print(exported_sbml_model.block0_Ctot_computed)"
      ],
      "outputs": [],
      "execution_count": 10,
      "metadata": {
        "collapsed": false,
        "outputHidden": false,
        "inputHidden": false
      }
    },
    {
      "cell_type": "markdown",
      "source": [
        "# Simulation"
      ],
      "metadata": {}
    },
    {
      "cell_type": "code",
      "source": [
        "# hardware simulation\n",
        "model.reset()\n",
        "for k in range(3):\n",
        "    print('block {}: rate_fw = {}'.format(k,model.blocks[k].rate_fw))\n",
        "    print('block {}: rate = {}'.format(k,model.blocks[k].rate))\n",
        "r = model.simulate(0,10,100)\n",
        "# print(r)\n",
        "model.plot()"
      ],
      "outputs": [],
      "execution_count": 6,
      "metadata": {
        "collapsed": false,
        "outputHidden": false,
        "inputHidden": false
      }
    },
    {
      "cell_type": "markdown",
      "source": [
        "# SBML Simulation"
      ],
      "metadata": {}
    },
    {
      "cell_type": "code",
      "source": [
        "# SBML comparison\n",
        "import tellurium as te\n",
        "with open('/home/poltergeist/devel/src/mtt/test-cases/fig-3-5a-cascade-reversible.sb') as f:\n",
        "    rr_model = te.loada(f.read())\n",
        "print(rr_model.getReactionRates())\n",
        "rr_model.simulate(0,10,1000)\n",
        "rr_model.plot()"
      ],
      "outputs": [],
      "execution_count": 7,
      "metadata": {
        "collapsed": false,
        "outputHidden": false,
        "inputHidden": false
      }
    }
  ],
  "metadata": {
    "kernelspec": {
      "name": "python3",
      "language": "python",
      "display_name": "Python 3 (built-in)"
    },
    "kernel_info": {
      "name": "python3"
    },
    "language_info": {
      "name": "python",
      "version": "3.6.3",
      "mimetype": "text/x-python",
      "codemirror_mode": {
        "name": "ipython",
        "version": 3
      },
      "pygments_lexer": "ipython3",
      "nbconvert_exporter": "python",
      "file_extension": ".py"
    }
  },
  "nbformat": 4,
  "nbformat_minor": 4
}