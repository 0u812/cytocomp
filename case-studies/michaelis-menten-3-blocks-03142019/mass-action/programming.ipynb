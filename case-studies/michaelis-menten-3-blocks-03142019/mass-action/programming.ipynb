{
  "cells": [
    {
      "cell_type": "code",
      "source": [
        "import mtt\n",
        "from os.path import join, realpath\n",
        "from os import getcwd\n",
        "sbfile = join(realpath(getcwd()),'catalysis.sb')\n",
        "wiring = mtt.Wiring.fromFile2(sbfile)\n",
        "wiring"
      ],
      "outputs": [],
      "execution_count": 76,
      "metadata": {
        "collapsed": false,
        "outputHidden": false,
        "inputHidden": false
      }
    },
    {
      "cell_type": "code",
      "source": [
        "model = mtt.MTT(wiring)\n",
        "model.draw(3)"
      ],
      "outputs": [],
      "execution_count": 77,
      "metadata": {
        "collapsed": false,
        "outputHidden": false,
        "inputHidden": false
      }
    },
    {
      "cell_type": "markdown",
      "source": [
        "# Shift Register Alterations\n",
        "\nWe need to manually set Btot and KDfw on the last block if we want to match Sung's example."
      ],
      "metadata": {}
    },
    {
      "cell_type": "code",
      "source": [
        "wiring.blocks[0].KDrv = 50.\n",
        "\n",
        "wiring.blocks[2].Btot = 100.\n",
        "wiring.blocks[2].KDfw = 100.\n",
        "wiring.blocks[2].kr = 5.\n",
        "wiring.blocks[2].KDrv = 10. # not used"
      ],
      "outputs": [],
      "execution_count": 78,
      "metadata": {
        "collapsed": false,
        "outputHidden": false,
        "inputHidden": false
      }
    },
    {
      "cell_type": "markdown",
      "source": [
        "# Digitized current config"
      ],
      "metadata": {}
    },
    {
      "cell_type": "code",
      "source": [
        "for block in wiring.blocks:\n",
        "    print(block.getDigitizedParameterString(model))"
      ],
      "outputs": [],
      "execution_count": 79,
      "metadata": {
        "collapsed": false,
        "outputHidden": false,
        "inputHidden": false
      }
    },
    {
      "cell_type": "markdown",
      "source": [
        "# Generate SRAM Program"
      ],
      "metadata": {}
    },
    {
      "cell_type": "code",
      "source": [
        "from mtt import addSRAMRule, removeSRAMRule\n",
        "program = model.compileSRAM()\n",
        "rules = program.getRoutingRulesBinaryMatrix()\n",
        "\n",
        "# ADC connections\n",
        "# group, block, variable, wire\n",
        "# variables:\n",
        "Ctot_var  = 11\n",
        "Afree_var = 12\n",
        "# rules = addSRAMRule(rules,0,1,Afree_var,88) # \"A\"\n",
        "# rules = addSRAMRule(rules,0,2,Afree_var,89) # \"B\"\n",
        "# rules = addSRAMRule(rules,0,2,Ctot_var,90)  # \"C\"\n",
        "\n",
        "# rules = addSRAMRule(rules,0,0,Ctot_var,91) # Ctot for first  block (total A)\n",
        "# rules = addSRAMRule(rules,0,1,Ctot_var,92) # Ctot for second block (total B)\n",
        "\n",
        "# five extra ADC connections from group 2 block 1\n",
        "# rules = addSRAMRule(rules,2,1,18,94)\n",
        "# rules = addSRAMRule(rules,2,1,19,95)\n",
        "# rules = addSRAMRule(rules,2,1,12,96)\n",
        "# rules = addSRAMRule(rules,2,1,7,97)\n",
        "# rules = addSRAMRule(rules,2,1,25,98)\n",
        "\n",
        "# wire to ADC\n",
        "# for i in range(88,93+1):\n",
        "#     rules = addSRAMRule(rules,0,0,31,i)\n",
        "\n",
        "# Sung used port 10 for Ctot instead of port 9, both are valid\n",
        "rules = removeSRAMRule(rules,0,1,9)\n",
        "rules = addSRAMRule(rules,0,1,10,3)"
      ],
      "outputs": [],
      "execution_count": 80,
      "metadata": {
        "collapsed": false,
        "outputHidden": false,
        "inputHidden": false
      }
    },
    {
      "cell_type": "code",
      "source": [
        "import pprint\n",
        "pp = pprint.PrettyPrinter(indent=2, depth=1, width=10)\n",
        "pp.pprint(program.dump())"
      ],
      "outputs": [],
      "execution_count": 81,
      "metadata": {
        "collapsed": false,
        "outputHidden": false,
        "inputHidden": false
      }
    },
    {
      "cell_type": "markdown",
      "source": [
        "# Routing Configuration\n",
        "\nOne row per wire."
      ],
      "metadata": {}
    },
    {
      "cell_type": "code",
      "source": [
        "from numpy import array\n",
        "binrules = array([bin(rule[0])[2:].zfill(10) for rule in rules])\n",
        "print(binrules.reshape((-1,1)))"
      ],
      "outputs": [],
      "execution_count": 82,
      "metadata": {
        "collapsed": false,
        "outputHidden": false,
        "inputHidden": false
      }
    },
    {
      "cell_type": "markdown",
      "source": [
        "# SRAM Layout\n",
        "\nRows are binary routing config rules, cols are wires."
      ],
      "metadata": {}
    },
    {
      "cell_type": "code",
      "source": [
        "from scipy.io import savemat\n",
        "sram_matrix = program.convertToSRAMMatrix(rules)\n",
        "savemat('sram.mat', {'in_all': sram_matrix})"
      ],
      "outputs": [],
      "execution_count": 83,
      "metadata": {
        "collapsed": false,
        "outputHidden": false,
        "inputHidden": false
      }
    },
    {
      "cell_type": "markdown",
      "source": [
        "# Shift Registers"
      ],
      "metadata": {}
    },
    {
      "cell_type": "code",
      "source": [
        "def sr_alterations(prog_vect):\n",
        "    # sung configures one of the registers to have unity current of 12 nA\n",
        "    prog_vect = array(prog_vect)\n",
        "    prog_vect[280:287,0] = [0, 1, 0, 1, 0, 1, 0]\n",
        "    return prog_vect"
      ],
      "outputs": [],
      "execution_count": 84,
      "metadata": {
        "collapsed": false,
        "outputHidden": false,
        "inputHidden": false
      }
    },
    {
      "cell_type": "code",
      "source": [
        "sr = model.compileShiftReg()\n",
        "prog_vect = sr_alterations(sr.getProgrammingVector(use_Ctot=False))\n",
        "savemat('sr1.mat', {'prog_vect': prog_vect})"
      ],
      "outputs": [],
      "execution_count": 85,
      "metadata": {
        "collapsed": false,
        "outputHidden": false,
        "inputHidden": false
      }
    },
    {
      "cell_type": "markdown",
      "source": [
        "# Simulink Export"
      ],
      "metadata": {}
    },
    {
      "cell_type": "code",
      "source": [
        "model.exportToSimulink(join(realpath(getcwd()),'simulink'), 'cascade', 3)"
      ],
      "outputs": [],
      "execution_count": 86,
      "metadata": {
        "collapsed": false,
        "outputHidden": false,
        "inputHidden": false
      }
    },
    {
      "cell_type": "markdown",
      "source": [
        "# Initial Conditions\n",
        "\nShift register configuration for initial conditions"
      ],
      "metadata": {}
    },
    {
      "cell_type": "code",
      "source": [
        "wiring.blocks[0].Atot = 0.\n",
        "wiring.blocks[1].Atot = 100.\n",
        "sr = model.compileShiftReg()\n",
        "prog_vect = sr_alterations(sr.getProgrammingVector(use_Ctot=True))\n",
        "savemat('sr2.mat', {'prog_vect': prog_vect})"
      ],
      "outputs": [],
      "execution_count": 87,
      "metadata": {
        "collapsed": false,
        "outputHidden": false,
        "inputHidden": false
      }
    },
    {
      "cell_type": "code",
      "source": [
        "# import numpy\n",
        "# numpy.set_printoptions(threshold=numpy.nan)\n",
        "# print(prog_vect)"
      ],
      "outputs": [],
      "execution_count": 88,
      "metadata": {
        "collapsed": false,
        "outputHidden": false,
        "inputHidden": false
      }
    },
    {
      "cell_type": "markdown",
      "source": [
        "# Simulation"
      ],
      "metadata": {}
    },
    {
      "cell_type": "code",
      "source": [
        "# hardware simulation\n",
        "model.reset()\n",
        "wiring.blocks[0].Atot = 0.\n",
        "wiring.blocks[1].Atot = 100.\n",
        "# for k in range(3):\n",
        "#     print('block {}: rate_fw = {}'.format(k,model.blocks[k].rate_fw))\n",
        "#     print('block {}: rate = {}'.format(k,model.blocks[k].rate))\n",
        "r = model.simulate(0,10,100)\n",
        "# print(r)\n",
        "model.plot()"
      ],
      "outputs": [],
      "execution_count": 89,
      "metadata": {
        "collapsed": false,
        "outputHidden": false,
        "inputHidden": false
      }
    },
    {
      "cell_type": "markdown",
      "source": [
        "# SBML Simulation"
      ],
      "metadata": {}
    },
    {
      "cell_type": "code",
      "source": [
        "# SBML comparison\n",
        "import tellurium as te\n",
        "with open(join(realpath(getcwd()),'catalysis.sb')) as f:\n",
        "    rr_model = te.loada(f.read())\n",
        "print(rr_model.getReactionRates())\n",
        "rr_model.simulate(0,10,1000)\n",
        "rr_model.plot()"
      ],
      "outputs": [],
      "execution_count": 90,
      "metadata": {
        "collapsed": false,
        "outputHidden": false,
        "inputHidden": false
      }
    }
  ],
  "metadata": {
    "kernelspec": {
      "name": "python3",
      "language": "python",
      "display_name": "Python 3 (built-in)"
    },
    "kernel_info": {
      "name": "python3"
    },
    "language_info": {
      "name": "python",
      "version": "3.6.3",
      "mimetype": "text/x-python",
      "codemirror_mode": {
        "name": "ipython",
        "version": 3
      },
      "pygments_lexer": "ipython3",
      "nbconvert_exporter": "python",
      "file_extension": ".py"
    }
  },
  "nbformat": 4,
  "nbformat_minor": 4
}