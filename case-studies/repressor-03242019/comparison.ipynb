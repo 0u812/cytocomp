{
  "cells": [
    {
      "cell_type": "code",
      "source": [
        "model repressor_combined()\n",
        "  var species R\n",
        "  v: => A; a_tr * (Km^2) / (R^2 + Km^2)\n",
        "  \n",
        "  kr = 10\n",
        "  kf = 10\n",
        "  tr_rate = 1\n",
        "  a_tr = 1*tr_rate\n",
        "  Km = (kr^0.5)/kf\n",
        "  \n",
        "  R = 1\n",
        "end"
      ],
      "outputs": [],
      "execution_count": 13,
      "metadata": {
        "collapsed": false,
        "outputHidden": false,
        "inputHidden": false,
        "tellurium": {
          "te_cell_type": "antimony"
        }
      }
    },
    {
      "cell_type": "code",
      "source": [
        "model repressor_2_step()\n",
        "  J0: S -> C; (kf^2)*(R^2)*S - kr*C\n",
        "  v: => A; tr_rate*S\n",
        "  \n",
        "  kr = 10\n",
        "  kf = 10\n",
        "  tr_rate = 1\n",
        "  \n",
        "  S = 1\n",
        "  R = 1\n",
        "end"
      ],
      "outputs": [],
      "execution_count": 14,
      "metadata": {
        "collapsed": false,
        "outputHidden": false,
        "inputHidden": false,
        "tellurium": {
          "te_cell_type": "antimony"
        }
      }
    },
    {
      "cell_type": "code",
      "source": [
        "from tellurium import plot, show\n",
        "from numpy import array\n",
        "for R in [0.1, 0.5, 1., 2., 10.]:\n",
        "    repressor_combined.reset()\n",
        "    repressor_combined.R = R\n",
        "    c = repressor_combined.simulate(0,1,100,['time','v'])\n",
        "    repressor_2_step.reset()\n",
        "    repressor_2_step.R = R\n",
        "    e = repressor_2_step.simulate(0,1,100,['time','v','S'])\n",
        "    \n",
        "    kf = repressor_combined.kf\n",
        "    kr = repressor_combined.kr\n",
        "    tau = 5/(kr + (kf*R)**2)\n",
        "    \n",
        "    plot(c[:,0], c[:,1], name='combined', title='R={}'.format(R), show=False)\n",
        "    plot(e[:,0], e[:,1], name='2-step', show=False)\n",
        "    plot(e[:,0], e[:,2], name='S', show=False)\n",
        "    plot(array([tau]), array([repressor_combined.v]), name='tau', scatter=True, show=False)\n",
        "    show()"
      ],
      "outputs": [],
      "execution_count": 15,
      "metadata": {
        "collapsed": false,
        "outputHidden": false,
        "inputHidden": false
      }
    }
  ],
  "metadata": {
    "kernelspec": {
      "name": "python3",
      "language": "python",
      "display_name": "Python 3 (built-in)"
    },
    "kernel_info": {
      "name": "python3"
    },
    "language_info": {
      "name": "python",
      "version": "3.6.3",
      "mimetype": "text/x-python",
      "codemirror_mode": {
        "name": "ipython",
        "version": 3
      },
      "pygments_lexer": "ipython3",
      "nbconvert_exporter": "python",
      "file_extension": ".py"
    }
  },
  "nbformat": 4,
  "nbformat_minor": 4
}