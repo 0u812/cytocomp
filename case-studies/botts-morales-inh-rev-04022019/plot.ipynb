{
  "cells": [
    {
      "cell_type": "code",
      "source": [
        "import matplotlib\n",
        "matplotlib.use('Agg')\n",
        "import matplotlib.pyplot as plt\n",
        "plt.style.use('seaborn')"
      ],
      "outputs": [],
      "execution_count": 19,
      "metadata": {
        "collapsed": false,
        "outputHidden": false,
        "inputHidden": false
      }
    },
    {
      "cell_type": "code",
      "source": [
        "import mtt\n",
        "from os.path import join, realpath, split\n",
        "from os import getcwd\n",
        "sbfile = join(realpath(getcwd()),'inhibited-rev.sb')\n",
        "wiring = mtt.Wiring.fromFile(sbfile)\n",
        "wiring"
      ],
      "outputs": [],
      "execution_count": 20,
      "metadata": {
        "collapsed": false,
        "outputHidden": false,
        "inputHidden": false
      }
    },
    {
      "cell_type": "code",
      "source": [
        "model = mtt.MTT(wiring)\n",
        "model.draw(2)"
      ],
      "outputs": [],
      "execution_count": 21,
      "metadata": {
        "collapsed": false,
        "outputHidden": false,
        "inputHidden": false
      }
    },
    {
      "cell_type": "markdown",
      "source": [
        "# Digitized current config"
      ],
      "metadata": {}
    },
    {
      "cell_type": "code",
      "source": [
        "for block in wiring.blocks:\n",
        "    print(block.getDigitizedParameterString(model))"
      ],
      "outputs": [],
      "execution_count": 22,
      "metadata": {
        "collapsed": false,
        "outputHidden": false,
        "inputHidden": false
      }
    },
    {
      "cell_type": "markdown",
      "source": [
        "# Simulink Export"
      ],
      "metadata": {}
    },
    {
      "cell_type": "code",
      "source": [
        "model.exportToSimulink(join(realpath(getcwd()),'simulink','bottsmorales_inh_rev'), 'bottsmorales_inh_rev', 2)"
      ],
      "outputs": [],
      "execution_count": 23,
      "metadata": {
        "collapsed": false,
        "outputHidden": false,
        "inputHidden": false
      }
    },
    {
      "cell_type": "markdown",
      "source": [
        "# Block Simulation"
      ],
      "metadata": {}
    },
    {
      "cell_type": "code",
      "source": [
        "sbml = model.toSBML()\n",
        "# print(sbml)\n",
        "from roadrunner import RoadRunner\n",
        "with open('out-sbml-botts-morales-inh-rev.xml', 'w') as f:\n",
        "    f.write(sbml)\n",
        "xmod = RoadRunner(sbml)\n",
        "xmod.reset()\n",
        "xmod.simulate(0,10,1000,selections=['time']+xmod.getFloatingSpeciesIds())\n",
        "xmod.plot()"
      ],
      "outputs": [],
      "execution_count": 24,
      "metadata": {
        "collapsed": false,
        "outputHidden": false,
        "inputHidden": false
      }
    },
    {
      "cell_type": "code",
      "source": [
        "# # block simulation\n",
        "# model.reset()\n",
        "# for k in range(3):\n",
        "#     print('block {}: rate_fw = {}'.format(k,model.blocks[k].rate_fw))\n",
        "#     print('block {}: rate = {}'.format(k,model.blocks[k].rate))\n",
        "# wiring.blocks[1].Btot.setValue(50.)\n",
        "# mtt_results = model.simulate(0,10,100)\n",
        "# model.plot(xtitle='time(s)', ytitle='conc.(nA)')"
      ],
      "outputs": [],
      "execution_count": 25,
      "metadata": {
        "collapsed": false,
        "outputHidden": false,
        "inputHidden": false
      }
    },
    {
      "cell_type": "markdown",
      "source": [
        "# SBML Simulation"
      ],
      "metadata": {}
    },
    {
      "cell_type": "code",
      "source": [
        "# SBML comparison\n",
        "import tellurium as te\n",
        "with open(sbfile) as f:\n",
        "    rr_model = te.loada(f.read())\n",
        "rr_results = rr_model.simulate(0,10,1000)\n",
        "rr_model.plot(xtitle='time(s)', ytitle='conc.(nA)')"
      ],
      "outputs": [],
      "execution_count": 26,
      "metadata": {
        "collapsed": false,
        "outputHidden": false,
        "inputHidden": false
      }
    },
    {
      "cell_type": "code",
      "source": [
        "nrows = 2\n",
        "ncols = 1\n",
        "fig,axes = plt.subplots(nrows, ncols, sharex='col', sharey='row', figsize=(6,8))\n",
        "\n",
        "for z,sb in enumerate(['i0.sb','i1.sb','i2.sb','i3.sb','i4.sb']):\n",
        "    sb = join(realpath(getcwd()),sb)\n",
        "    wiring = mtt.Wiring.fromFile(sb)\n",
        "    model = mtt.MTT(wiring)\n",
        "    sbml = model.toSBML()\n",
        "    xmod = RoadRunner(sbml)\n",
        "    mtt_results = xmod.simulate(0,10,1000,selections=['time','P'])\n",
        "    \n",
        "    with open(sb) as f:\n",
        "        rr_model = te.loada(f.read())\n",
        "    rr_results = rr_model.simulate(0,10,1000,selections=['time','P'])\n",
        "    \n",
        "    col = 0\n",
        "    for row,(r,title) in enumerate(zip((mtt_results,rr_results),('Block Simulation','SBML Simulation'))):\n",
        "        a = axes[row]\n",
        "        a.set_title(title, fontsize=14)\n",
        "        if row == nrows-1:\n",
        "            a.set_xlabel('time(s)', fontsize=14)\n",
        "        a.set_ylabel('Product conc.(nA)', fontsize=14)\n",
        "        for k in range(1,r.shape[1]):\n",
        "            a.plot(r[:,0], r[:,k], label='I = {:.0f}'.format(rr_model.I), color='C'+str(z), linewidth=2)\n",
        "        handles, labels = a.get_legend_handles_labels()\n",
        "fig.legend(handles, labels, loc='lower right')\n",
        "\n",
        "pdfname = split(sbfile)[1].split('.')[0]+'.pdf'\n",
        "plt.savefig(pdfname, format='pdf')"
      ],
      "outputs": [],
      "execution_count": 27,
      "metadata": {
        "collapsed": false,
        "outputHidden": false,
        "inputHidden": false
      }
    }
  ],
  "metadata": {
    "kernelspec": {
      "name": "python3",
      "language": "python",
      "display_name": "Python 3 (built-in)"
    },
    "kernel_info": {
      "name": "python3"
    },
    "language_info": {
      "name": "python",
      "version": "3.6.3",
      "mimetype": "text/x-python",
      "codemirror_mode": {
        "name": "ipython",
        "version": 3
      },
      "pygments_lexer": "ipython3",
      "nbconvert_exporter": "python",
      "file_extension": ".py"
    }
  },
  "nbformat": 4,
  "nbformat_minor": 4
}