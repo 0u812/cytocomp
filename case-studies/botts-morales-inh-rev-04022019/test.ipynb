{
  "cells": [
    {
      "cell_type": "markdown",
      "source": [
        "# Original"
      ],
      "metadata": {}
    },
    {
      "cell_type": "code",
      "source": [
        "import tellurium as te\n",
        "with open('inhibited-rev.sb') as f:\n",
        "    original = te.loada(f.read())\n",
        "original.simulate(0,10,1000)\n",
        "print('Keq',original.Keq)\n",
        "print('Kp',original.Kp)\n",
        "print('KI',original.KI)\n",
        "original.plot(xtitle='time(s)', ytitle='conc.(nA)')"
      ],
      "outputs": [],
      "execution_count": 3,
      "metadata": {
        "collapsed": false,
        "outputHidden": false,
        "inputHidden": false
      }
    },
    {
      "cell_type": "markdown",
      "source": [
        "# Mechanistic"
      ],
      "metadata": {}
    },
    {
      "cell_type": "code",
      "source": [
        "import tellurium as te\n",
        "with open('inhibited-rev-mechanistic.sb') as f:\n",
        "    mechanistic = te.loada(f.read())\n",
        "mechanistic.simulate(0,10,1000)\n",
        "print('kcatf',mechanistic.kcatf)\n",
        "print('kcatr',mechanistic.kcatr)\n",
        "print('kbf',mechanistic.kbf)\n",
        "print('kbr',mechanistic.kbr)\n",
        "print('kif',mechanistic.kif)\n",
        "print('kir',mechanistic.kir)\n",
        "mechanistic.plot(xtitle='time(s)', ytitle='conc.(nA)')"
      ],
      "outputs": [],
      "execution_count": 2,
      "metadata": {
        "collapsed": false,
        "outputHidden": false,
        "inputHidden": false
      }
    }
  ],
  "metadata": {
    "kernelspec": {
      "name": "python3",
      "language": "python",
      "display_name": "Python 3 (built-in)"
    },
    "kernel_info": {
      "name": "python3"
    },
    "language_info": {
      "name": "python",
      "version": "3.6.3",
      "mimetype": "text/x-python",
      "codemirror_mode": {
        "name": "ipython",
        "version": 3
      },
      "pygments_lexer": "ipython3",
      "nbconvert_exporter": "python",
      "file_extension": ".py"
    }
  },
  "nbformat": 4,
  "nbformat_minor": 4
}