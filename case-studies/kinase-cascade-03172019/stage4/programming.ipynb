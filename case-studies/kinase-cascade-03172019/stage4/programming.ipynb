{
  "cells": [
    {
      "cell_type": "code",
      "source": [
        "import mtt\n",
        "from os.path import join, realpath\n",
        "from os import getcwd\n",
        "from pprint import pprint\n",
        "sbfile = join(realpath(getcwd()),'kinase_cascade_stage4.sb')\n",
        "wiring = mtt.Wiring.fromFile2(sbfile, {}, 1.)\n",
        "wiring.blocks[1].ratC = 1.\n",
        "wiring.connect(wiring.blocks[1].rv_up, wiring.blocks[0].Cprod)\n",
        "# wiring.connect(wiring.blocks[3].Bfree, wiring.blocks[2].Cfree)\n",
        "wiring"
      ],
      "outputs": [],
      "execution_count": 2,
      "metadata": {
        "collapsed": false,
        "outputHidden": false,
        "inputHidden": false
      }
    },
    {
      "cell_type": "code",
      "source": [
        "model = mtt.MTT(wiring)\n",
        "model.draw(3)"
      ],
      "outputs": [],
      "execution_count": 3,
      "metadata": {
        "collapsed": false,
        "outputHidden": false,
        "inputHidden": false
      }
    },
    {
      "cell_type": "markdown",
      "source": [
        "# Digitized current config"
      ],
      "metadata": {}
    },
    {
      "cell_type": "code",
      "source": [
        "for block in wiring.blocks:\n",
        "    print(block.getDigitizedParameterString(model))"
      ],
      "outputs": [],
      "execution_count": 4,
      "metadata": {
        "collapsed": false,
        "outputHidden": false,
        "inputHidden": false
      }
    },
    {
      "cell_type": "markdown",
      "source": [
        "# Simulation"
      ],
      "metadata": {}
    },
    {
      "cell_type": "code",
      "source": [
        "# hardware simulation\n",
        "model.reset()\n",
        "r = model.simulate(0,1,10)\n",
        "for k in range(len(model.blocks)):\n",
        "    print('block',k,'rate:',model.blocks[k].rate)\n",
        "values = r.getLatestValues()\n",
        "pprint(values)\n",
        "model.plot()"
      ],
      "outputs": [],
      "execution_count": 5,
      "metadata": {
        "collapsed": false,
        "outputHidden": false,
        "inputHidden": false
      }
    },
    {
      "cell_type": "markdown",
      "source": [
        "# SBML Simulation"
      ],
      "metadata": {}
    },
    {
      "cell_type": "code",
      "source": [
        "# SBML comparison\n",
        "import tellurium as te\n",
        "with open(join(realpath(getcwd()),'kinase_cascade_stage4.sb')) as f:\n",
        "    rr_model = te.loada(f.read())\n",
        "rr_model.selections = ['time','__s0','__s1','__s6','__s4','__s7','__s8','__s2','__s9']\n",
        "rr_model.simulate(0,1,100)\n",
        "print(rr_model.getReactionRates())\n",
        "rr_model.plot()\n",
        "# rr_model.__s2 = 2999993.042696542\n",
        "for var,value in values.items():\n",
        "    print('diff for {}: {}'.format(var,rr_model[var]-value))\n",
        "    rr_model[var] = value\n",
        "    \n",
        "for id, rate in zip(rr_model.getReactionIds(), rr_model.getReactionRates()):\n",
        "    print(id,rate)\n",
        "for k in range(len(model.blocks)):\n",
        "    print('block',k,'rate:',model.blocks[k].rate)\n",
        "# print('block[8] Cprod-Cdeg = ', model.blocks[8].Cprod, model.blocks[8].Cdeg)\n",
        "# print('block[7] rate_fw-rate_rv = ', model.blocks[7].rate_fw, model.blocks[7].rate_rv)\n",
        "# print('block[4].Ctot = ',model.blocks[4].Ctot)\n",
        "# print('block[4].Afree = ',model.blocks[4].Afree)\n",
        "# print('block[4].Bfree = ',model.blocks[4].Bfree)\n",
        "# print('block[7].Ctot = ',model.blocks[7].Ctot)\n",
        "# print('block[7].Afree = ',model.blocks[7].Afree)\n",
        "# print('block[7].Bfree = ',model.blocks[7].Bfree)\n",
        "# print('rr __s9 = ',rr_model.__s9)\n",
        "# pprint(values)\n",
        "# print('block[1].rate_fw-rate_rv = ',model.blocks[1].rate_fw,model.blocks[1].rate_rv)\n",
        "# print('rr __s7\\'',rr_model['__s7\\''])\n",
        "# print('rr r1+r5-r2-r3','{} + {} - {} - {} = \\n  {}'.format(round(rr_model['r1'],1),round(rr_model['r5'],1),round(rr_model['r2'],1),round(rr_model['r3'],1), rr_model['r1']+rr_model['r5']-rr_model['r2']-rr_model['r3']))\n",
        "\n",
        "# print('\\n')\n",
        "\n",
        "# print('block[2] + block[7] - block[3] - block[4] = {} - {} - {} = \\n  {}'.format(round(model.blocks[2].rate,1),round(model.blocks[3].rate,1),round(model.blocks[4].rate,1),model.blocks[2].rate-model.blocks[3].rate-model.blocks[4].rate))\n",
        "\n\n",
        "print('block[7].Afree = {} (should be free __s9)'.format(model.blocks[7].Afree))\n",
        "print('rr __s9 = {}'.format(rr_model.__s9))\n",
        "print('block[7].rate_fw = {}'.format(model.blocks[7].rate_fw))\n",
        "print('block[7].rate_rv = {}'.format(model.blocks[7].rate_rv))\n",
        "\n",
        "print('species rates\\n')\n",
        "\n",
        "# __s0\n",
        "print('rr __s0\\'',rr_model['__s0\\''])\n",
        "print('  rr r1-r0','{} - {} =  {}'.format(round(rr_model['r0'],1),round(rr_model['r1'],1), rr_model['r0']-rr_model['r1']))\n",
        "\n",
        "print('  block[1] - block[0] = {} - {} = {}'.format(round(model.blocks[1].rate,1),round(model.blocks[0].rate,1),model.blocks[1].rate-model.blocks[0].rate))\n",
        "\n",
        "# __s1\n",
        "print('rr __s1\\'',rr_model['__s1\\''])\n",
        "print('  rr r4-r0','{} - {} = {}'.format(round(rr_model['r4'],1),round(rr_model['r0'],1), rr_model['r4']-rr_model['r0']))\n",
        "print('  block[5] - block[0] = {} - {} = {}'.format(round(model.blocks[5].rate,1),round(model.blocks[0].rate,1),model.blocks[5].rate-model.blocks[0].rate))\n",
        "\n",
        "print('\\n')\n",
        "\n",
        "# __s2\n",
        "print('rr __s2\\'',rr_model['__s2\\''])\n",
        "print('  rr -r3','-{}'.format(round(rr_model['r3'],1)))\n",
        "print('  -block[4] = -{}'.format(round(model.blocks[4].rate,1)))\n",
        "\n",
        "print('\\n')\n",
        "\n",
        "print('rr __s4\\'',rr_model['__s4\\''])\n",
        "print('  rr r4-r2','{} - {} = {}'.format(round(rr_model['r4'],1),round(rr_model['r2'],1), rr_model['r4']-rr_model['r2']))\n",
        "print('  block[5] - block[3] = {} - {} = {}'.format(round(model.blocks[5].rate,1),round(model.blocks[3].rate,1),model.blocks[5].rate-model.blocks[3].rate))\n",
        "\n",
        "print('\\n')\n",
        "\n",
        "print('\\n')\n",
        "\n",
        "# __s6\n",
        "print('rr __s6\\'',rr_model['__s6\\''])\n",
        "print('  rr r0-r1','{} - {} =  {}'.format(round(rr_model['r0'],1),round(rr_model['r1'],1), rr_model['r0']-rr_model['r1']))\n",
        "\n",
        "print('  block[0] - block[1] = {} - {} = {}'.format(round(model.blocks[0].rate,1),round(model.blocks[1].rate,1),model.blocks[0].rate-model.blocks[1].rate))\n",
        "\n",
        "print('\\n')\n",
        "\n",
        "# __s7\n",
        "print('rr __s7\\'',rr_model['__s7\\''])\n",
        "print('  rr r1+r5-r2-r3','{} + {} - {} - {} =  {}'.format(round(rr_model['r1'],1),round(rr_model['r5'],1),round(rr_model['r2'],1),round(rr_model['r3'],1), rr_model['r1']+rr_model['r5']-rr_model['r2']-rr_model['r3']))\n",
        "\n",
        "print('  block[2] - block[3] - block[4] = {} - {} -{} = {}'.format(round(model.blocks[2].rate,1),round(model.blocks[3].rate,1),round(model.blocks[4].rate,1),model.blocks[2].rate-model.blocks[3].rate-model.blocks[4].rate))\n",
        "\n",
        "print('\\n')\n",
        "\n",
        "# __s8\n",
        "print('rr __s8\\'',rr_model['__s8\\''])\n",
        "print('  rr r2-r4','{} - {} =  {}'.format(round(rr_model['r2'],1),round(rr_model['r4'],1), rr_model['r2']-rr_model['r4']))\n",
        "\n",
        "print('  block[3] - block[5] = {} - {} = {}'.format(round(model.blocks[3].rate,1),round(model.blocks[5].rate,1),model.blocks[3].rate-model.blocks[5].rate))\n",
        "\n",
        "print('\\n')\n",
        "\n",
        "print('rr __s9\\'',rr_model['__s9\\''])\n",
        "print('  rr r3-r5','{} - {} =  {}'.format(round(rr_model['r3'],1),round(rr_model['r5'],1), rr_model['r3']-rr_model['r5']))\n",
        "\n",
        "print('  block[4] - block[8] = {} - {} =  {}'.format(round(model.blocks[4].rate,1),round(model.blocks[8].rate,1),model.blocks[4].rate-model.blocks[8].rate))\n",
        "\n"
      ],
      "outputs": [],
      "execution_count": 6,
      "metadata": {
        "collapsed": false,
        "outputHidden": false,
        "inputHidden": false
      }
    }
  ],
  "metadata": {
    "kernelspec": {
      "name": "python3",
      "language": "python",
      "display_name": "Python 3 (built-in)"
    },
    "kernel_info": {
      "name": "python3"
    },
    "language_info": {
      "name": "python",
      "version": "3.6.3",
      "mimetype": "text/x-python",
      "codemirror_mode": {
        "name": "ipython",
        "version": 3
      },
      "pygments_lexer": "ipython3",
      "nbconvert_exporter": "python",
      "file_extension": ".py"
    }
  },
  "nbformat": 4,
  "nbformat_minor": 4
}