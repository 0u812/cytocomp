{
  "cells": [
    {
      "cell_type": "code",
      "source": [
        "import mtt\n",
        "from os.path import join, realpath\n",
        "from os import getcwd\n",
        "sbfile = join(realpath(getcwd()),'kinase_cascade_stage1.sb')\n",
        "wiring = mtt.Wiring.fromFile2(sbfile, {}, 1.)\n",
        "wiring.blocks[1].ratC = 1.\n",
        "wiring.connect(wiring.blocks[1].rv_up, wiring.blocks[0].Cprod)\n",
        "wiring"
      ],
      "outputs": [],
      "execution_count": 7,
      "metadata": {
        "collapsed": false,
        "outputHidden": false,
        "inputHidden": false
      }
    },
    {
      "cell_type": "code",
      "source": [
        "model = mtt.MTT(wiring)\n",
        "model.draw(2)"
      ],
      "outputs": [],
      "execution_count": 8,
      "metadata": {
        "collapsed": false,
        "outputHidden": false,
        "inputHidden": false
      }
    },
    {
      "cell_type": "markdown",
      "source": [
        "# Digitized current config"
      ],
      "metadata": {}
    },
    {
      "cell_type": "code",
      "source": [
        "for block in wiring.blocks:\n",
        "    print(block.getDigitizedParameterString(model))"
      ],
      "outputs": [],
      "execution_count": 9,
      "metadata": {
        "collapsed": false,
        "outputHidden": false,
        "inputHidden": false
      }
    },
    {
      "cell_type": "code",
      "source": [
        "# model.exportToSimulink(join(realpath(getcwd()),'simulink'), 'kinase_cascade_stage1', 3)"
      ],
      "outputs": [],
      "execution_count": 10,
      "metadata": {
        "collapsed": false,
        "outputHidden": false,
        "inputHidden": false
      }
    },
    {
      "cell_type": "markdown",
      "source": [
        "# Simulation"
      ],
      "metadata": {}
    },
    {
      "cell_type": "code",
      "source": [
        "# hardware simulation\n",
        "model.reset()\n",
        "# wiring.blocks[0].Atot = 0.\n",
        "# wiring.blocks[1].Atot = 100.\n",
        "# for k in range(3):\n",
        "#     print('block {}: rate_fw = {}'.format(k,model.blocks[k].rate_fw))\n",
        "#     print('block {}: rate = {}'.format(k,model.blocks[k].rate))\n",
        "r = model.simulate(0,10,100)\n",
        "for k in range(4):\n",
        "    print('block',k,'Ctot:',model.blocks[k].Ctot,'rate:',model.blocks[k].rate)\n",
        "    print('  rate_fw:',model.blocks[k].rate_fw,'rate_rv:',model.blocks[k].rate_rv,'Cprod:',model.blocks[k].Cprod,'Cdeg:',model.blocks[k].Cdeg)\n",
        "# print(r)\n",
        "model.plot()"
      ],
      "outputs": [],
      "execution_count": 11,
      "metadata": {
        "collapsed": false,
        "outputHidden": false,
        "inputHidden": false
      }
    },
    {
      "cell_type": "markdown",
      "source": [
        "# SBML Simulation"
      ],
      "metadata": {}
    },
    {
      "cell_type": "code",
      "source": [
        "# SBML comparison\n",
        "import tellurium as te\n",
        "with open(join(realpath(getcwd()),'kinase_cascade_stage1.sb')) as f:\n",
        "    rr_model = te.loada(f.read())\n",
        "rr_model.selections = ['time','__s0','__s1','__s6','__s4','__s7','__s8']\n",
        "rr_model.simulate(0,10,1000)\n",
        "print(rr_model.getReactionRates())\n",
        "print('__s4',rr_model.__s4,'__s7',rr_model.__s7,'__s8',rr_model.__s8)\n",
        "rr_model.plot()"
      ],
      "outputs": [],
      "execution_count": 12,
      "metadata": {
        "collapsed": false,
        "outputHidden": false,
        "inputHidden": false
      }
    },
    {
      "cell_type": "markdown",
      "source": [
        "# Simulink Export"
      ],
      "metadata": {}
    },
    {
      "cell_type": "code",
      "source": [
        "model.exportToSimulink(join(realpath(getcwd()),'simulink'), 'cascade_stage1', 3)"
      ],
      "outputs": [],
      "execution_count": null,
      "metadata": {
        "collapsed": false,
        "outputHidden": false,
        "inputHidden": false
      }
    }
  ],
  "metadata": {
    "kernelspec": {
      "name": "python3",
      "language": "python",
      "display_name": "Python 3 (built-in)"
    },
    "kernel_info": {
      "name": "python3"
    },
    "language_info": {
      "name": "python",
      "version": "3.6.3",
      "mimetype": "text/x-python",
      "codemirror_mode": {
        "name": "ipython",
        "version": 3
      },
      "pygments_lexer": "ipython3",
      "nbconvert_exporter": "python",
      "file_extension": ".py"
    }
  },
  "nbformat": 4,
  "nbformat_minor": 4
}