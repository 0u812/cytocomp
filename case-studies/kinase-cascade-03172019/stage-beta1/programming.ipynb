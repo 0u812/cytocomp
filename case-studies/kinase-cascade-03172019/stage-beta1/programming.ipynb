{
  "cells": [
    {
      "cell_type": "code",
      "source": [
        "import mtt\n",
        "from os.path import join, realpath\n",
        "from os import getcwd\n",
        "from pprint import pprint\n",
        "sbfile = join(realpath(getcwd()),'kinase_cascade_stage-beta1.sb')\n",
        "wiring = mtt.Wiring.fromFile2(sbfile, {}, 1.)\n",
        "wiring.blocks[1].ratC = 1.\n",
        "wiring.connect(wiring.blocks[1].rv_up, wiring.blocks[0].Cprod)\n",
        "wiring"
      ],
      "outputs": [],
      "execution_count": 6,
      "metadata": {
        "collapsed": false,
        "outputHidden": false,
        "inputHidden": false
      }
    },
    {
      "cell_type": "code",
      "source": [
        "model = mtt.MTT(wiring)\n",
        "model.draw(3)"
      ],
      "outputs": [],
      "execution_count": 7,
      "metadata": {
        "collapsed": false,
        "outputHidden": false,
        "inputHidden": false
      }
    },
    {
      "cell_type": "markdown",
      "source": [
        "# Digitized current config"
      ],
      "metadata": {}
    },
    {
      "cell_type": "code",
      "source": [
        "for block in wiring.blocks:\n",
        "    print(block.getDigitizedParameterString(model))"
      ],
      "outputs": [],
      "execution_count": 8,
      "metadata": {
        "collapsed": false,
        "outputHidden": false,
        "inputHidden": false
      }
    },
    {
      "cell_type": "markdown",
      "source": [
        "# Simulation"
      ],
      "metadata": {}
    },
    {
      "cell_type": "code",
      "source": [
        "sbml = model.toSBML()\n",
        "# print(sbml)\n",
        "from roadrunner import RoadRunner\n",
        "with open('out-sbml.xml', 'w') as f:\n",
        "    f.write(sbml)\n",
        "xmod = RoadRunner(sbml)\n",
        "xmod.reset()\n",
        "xmod.integrator.relative_tolerance = 1e-12\n",
        "xmod.integrator.absolute_tolerance = 1e-20\n",
        "# xmod.oneStep()\n",
        "xmod.simulate(0,1000,1000,selections=['time']+xmod.getFloatingSpeciesIds())\n",
        "xmod.plot()\n",
        "\n",
        "values = {s:xmod[s] for s in xmod.getFloatingSpeciesIds()}\n",
        "block_rates = [xmod['block{}_Add10'.format(k)] for k in (range(len(wiring.blocks)))]\n",
        "# pprint(block_rates)\n",
        "r_block_indices = model.getReactionBlockIndices()"
      ],
      "outputs": [],
      "execution_count": 9,
      "metadata": {
        "collapsed": false,
        "outputHidden": false,
        "inputHidden": false
      }
    },
    {
      "cell_type": "markdown",
      "source": [
        "# SBML Simulation"
      ],
      "metadata": {}
    },
    {
      "cell_type": "code",
      "source": [
        "# SBML comparison\n",
        "import tellurium as te\n",
        "with open(sbfile) as f:\n",
        "    rr_model = te.loada(f.read())\n",
        "\n",
        "rr_model.reset()\n",
        "rr_model.integrator.relative_tolerance = 1e-12\n",
        "rr_model.integrator.absolute_tolerance = 1e-20\n",
        "rr_model.selections = ['time','__s0','__s1','__s6','__s4','__s7','__s8','__s2','__s9','__s10','__s15']\n",
        "rr_model.simulate(0,1000,2000)\n",
        "\n",
        "for var,value in values.items():\n",
        "    print('rel diff for {}: {:.3f}'.format(var,(rr_model[var]-value)/max(rr_model[var],1.)))\n",
        "    rr_model[var] = value\n",
        "\n",
        "# print('\\nreactions:')\n",
        "# for r_index in range(rr_model.getNumReactions()):\n",
        "#     r_id = rr_model.getReactionIds()[r_index]\n",
        "#     block_index = r_block_indices[r_index]\n",
        "#     print('{} rel diff: {:.3f}'.format(r_id,(rr_model[r_id]-block_rates[block_index])/max(rr_model[r_id],1.)))\n",
        "      \n",
        "rr_model.plot()"
      ],
      "outputs": [],
      "execution_count": 10,
      "metadata": {
        "collapsed": false,
        "outputHidden": false,
        "inputHidden": false
      }
    }
  ],
  "metadata": {
    "kernelspec": {
      "name": "python3",
      "language": "python",
      "display_name": "Python 3 (built-in)"
    },
    "kernel_info": {
      "name": "python3"
    },
    "language_info": {
      "name": "python",
      "version": "3.6.3",
      "mimetype": "text/x-python",
      "codemirror_mode": {
        "name": "ipython",
        "version": 3
      },
      "pygments_lexer": "ipython3",
      "nbconvert_exporter": "python",
      "file_extension": ".py"
    }
  },
  "nbformat": 4,
  "nbformat_minor": 4
}