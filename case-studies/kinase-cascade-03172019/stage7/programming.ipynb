{
  "cells": [
    {
      "cell_type": "code",
      "source": [
        "import mtt\n",
        "from os.path import join, realpath\n",
        "from os import getcwd\n",
        "from pprint import pprint\n",
        "sbfile = join(realpath(getcwd()),'kinase_cascade_stage7.sb')\n",
        "wiring = mtt.Wiring.fromFile2(sbfile, {}, 1.)\n",
        "wiring.blocks[1].ratC = 1.\n",
        "wiring.connect(wiring.blocks[1].rv_up, wiring.blocks[0].Cprod)\n",
        "wiring.connect(wiring.blocks[1].rv_up, wiring.blocks[0].Cprod)\n",
        "wiring"
      ],
      "outputs": [],
      "execution_count": 6,
      "metadata": {
        "collapsed": false,
        "outputHidden": false,
        "inputHidden": false
      }
    },
    {
      "cell_type": "code",
      "source": [
        "model = mtt.MTT(wiring)\n",
        "model.draw(3)"
      ],
      "outputs": [],
      "execution_count": 7,
      "metadata": {
        "collapsed": false,
        "outputHidden": false,
        "inputHidden": false
      }
    },
    {
      "cell_type": "markdown",
      "source": [
        "# Digitized current config"
      ],
      "metadata": {}
    },
    {
      "cell_type": "code",
      "source": [
        "for block in wiring.blocks:\n",
        "    print(block.getDigitizedParameterString(model))"
      ],
      "outputs": [],
      "execution_count": 8,
      "metadata": {
        "collapsed": false,
        "outputHidden": false,
        "inputHidden": false
      }
    },
    {
      "cell_type": "markdown",
      "source": [
        "# Simulation"
      ],
      "metadata": {}
    },
    {
      "cell_type": "code",
      "source": [
        "# hardware simulation\n",
        "model.reset()\n",
        "r = model.simulate(0,10,1000)\n",
        "for k in range(len(model.blocks)):\n",
        "    print('block',k,'rate:',model.blocks[k].rate)\n",
        "values = r.getLatestValues()\n",
        "pprint(values)\n",
        "model.plot()"
      ],
      "outputs": [],
      "execution_count": 9,
      "metadata": {
        "collapsed": false,
        "outputHidden": false,
        "inputHidden": false
      }
    },
    {
      "cell_type": "markdown",
      "source": [
        "# SBML Simulation"
      ],
      "metadata": {}
    },
    {
      "cell_type": "code",
      "source": [
        "# SBML comparison\n",
        "import tellurium as te\n",
        "with open(join(realpath(getcwd()),'kinase_cascade_stage7.sb')) as f:\n",
        "    rr_model = te.loada(f.read())\n",
        "rr_model.selections = ['time','__s0','__s1','__s6','__s4','__s7','__s8','__s2','__s9']\n",
        "rr_model.simulate(0,10,100)\n",
        "for id, rate in zip(rr_model.getReactionIds(), rr_model.getReactionRates()):\n",
        "    print(id,rate)\n",
        "rr_model.plot()\n",
        "\n",
        "for var,value in values.items():\n",
        "    print('diff for {}: {}'.format(var,rr_model[var]-value))\n",
        "    rr_model[var] = value\n",
        "    \n",
        "# for id, rate in zip(rr_model.getReactionIds(), rr_model.getReactionRates()):\n",
        "#     print(id,rate)\n",
        "# for k in range(len(model.blocks)):\n",
        "#     print('block',k,'rate:',model.blocks[k].rate)"
      ],
      "outputs": [],
      "execution_count": 10,
      "metadata": {
        "collapsed": false,
        "outputHidden": false,
        "inputHidden": false
      }
    }
  ],
  "metadata": {
    "kernelspec": {
      "name": "python3",
      "language": "python",
      "display_name": "Python 3 (built-in)"
    },
    "kernel_info": {
      "name": "python3"
    },
    "language_info": {
      "name": "python",
      "version": "3.6.3",
      "mimetype": "text/x-python",
      "codemirror_mode": {
        "name": "ipython",
        "version": 3
      },
      "pygments_lexer": "ipython3",
      "nbconvert_exporter": "python",
      "file_extension": ".py"
    }
  },
  "nbformat": 4,
  "nbformat_minor": 4
}